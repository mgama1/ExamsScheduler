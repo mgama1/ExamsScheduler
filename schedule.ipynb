{
  "nbformat": 4,
  "nbformat_minor": 0,
  "metadata": {
    "colab": {
      "provenance": []
    },
    "kernelspec": {
      "name": "python3",
      "display_name": "Python 3"
    },
    "language_info": {
      "name": "python"
    }
  },
  "cells": [
    {
      "cell_type": "code",
      "execution_count": 1,
      "metadata": {
        "id": "PfFe89YuWVZF",
        "outputId": "9cee168f-6b2f-4151-cfc5-990afbb9ec1c",
        "colab": {
          "base_uri": "https://localhost:8080/",
          "height": 363
        }
      },
      "outputs": [
        {
          "output_type": "error",
          "ename": "FileNotFoundError",
          "evalue": "ignored",
          "traceback": [
            "\u001b[0;31m---------------------------------------------------------------------------\u001b[0m",
            "\u001b[0;31mFileNotFoundError\u001b[0m                         Traceback (most recent call last)",
            "\u001b[0;32m<ipython-input-1-fb1c8b3b0b4d>\u001b[0m in \u001b[0;36m<module>\u001b[0;34m\u001b[0m\n\u001b[1;32m      2\u001b[0m \u001b[0;32mimport\u001b[0m \u001b[0mnumpy\u001b[0m \u001b[0;32mas\u001b[0m \u001b[0mnp\u001b[0m\u001b[0;34m\u001b[0m\u001b[0;34m\u001b[0m\u001b[0m\n\u001b[1;32m      3\u001b[0m \u001b[0;32mimport\u001b[0m \u001b[0mrandom\u001b[0m\u001b[0;34m\u001b[0m\u001b[0;34m\u001b[0m\u001b[0m\n\u001b[0;32m----> 4\u001b[0;31m \u001b[0mcourses\u001b[0m\u001b[0;34m=\u001b[0m \u001b[0mpd\u001b[0m\u001b[0;34m.\u001b[0m\u001b[0mExcelFile\u001b[0m\u001b[0;34m(\u001b[0m\u001b[0;34m\"courses.xlsx\"\u001b[0m\u001b[0;34m)\u001b[0m\u001b[0;34m\u001b[0m\u001b[0;34m\u001b[0m\u001b[0m\n\u001b[0m",
            "\u001b[0;32m/usr/local/lib/python3.8/dist-packages/pandas/io/excel/_base.py\u001b[0m in \u001b[0;36m__init__\u001b[0;34m(self, path_or_buffer, engine, storage_options)\u001b[0m\n\u001b[1;32m   1189\u001b[0m                 \u001b[0mext\u001b[0m \u001b[0;34m=\u001b[0m \u001b[0;34m\"xls\"\u001b[0m\u001b[0;34m\u001b[0m\u001b[0;34m\u001b[0m\u001b[0m\n\u001b[1;32m   1190\u001b[0m             \u001b[0;32melse\u001b[0m\u001b[0;34m:\u001b[0m\u001b[0;34m\u001b[0m\u001b[0;34m\u001b[0m\u001b[0m\n\u001b[0;32m-> 1191\u001b[0;31m                 ext = inspect_excel_format(\n\u001b[0m\u001b[1;32m   1192\u001b[0m                     \u001b[0mcontent_or_path\u001b[0m\u001b[0;34m=\u001b[0m\u001b[0mpath_or_buffer\u001b[0m\u001b[0;34m,\u001b[0m \u001b[0mstorage_options\u001b[0m\u001b[0;34m=\u001b[0m\u001b[0mstorage_options\u001b[0m\u001b[0;34m\u001b[0m\u001b[0;34m\u001b[0m\u001b[0m\n\u001b[1;32m   1193\u001b[0m                 )\n",
            "\u001b[0;32m/usr/local/lib/python3.8/dist-packages/pandas/io/excel/_base.py\u001b[0m in \u001b[0;36minspect_excel_format\u001b[0;34m(content_or_path, storage_options)\u001b[0m\n\u001b[1;32m   1068\u001b[0m         \u001b[0mcontent_or_path\u001b[0m \u001b[0;34m=\u001b[0m \u001b[0mBytesIO\u001b[0m\u001b[0;34m(\u001b[0m\u001b[0mcontent_or_path\u001b[0m\u001b[0;34m)\u001b[0m\u001b[0;34m\u001b[0m\u001b[0;34m\u001b[0m\u001b[0m\n\u001b[1;32m   1069\u001b[0m \u001b[0;34m\u001b[0m\u001b[0m\n\u001b[0;32m-> 1070\u001b[0;31m     with get_handle(\n\u001b[0m\u001b[1;32m   1071\u001b[0m         \u001b[0mcontent_or_path\u001b[0m\u001b[0;34m,\u001b[0m \u001b[0;34m\"rb\"\u001b[0m\u001b[0;34m,\u001b[0m \u001b[0mstorage_options\u001b[0m\u001b[0;34m=\u001b[0m\u001b[0mstorage_options\u001b[0m\u001b[0;34m,\u001b[0m \u001b[0mis_text\u001b[0m\u001b[0;34m=\u001b[0m\u001b[0;32mFalse\u001b[0m\u001b[0;34m\u001b[0m\u001b[0;34m\u001b[0m\u001b[0m\n\u001b[1;32m   1072\u001b[0m     ) as handle:\n",
            "\u001b[0;32m/usr/local/lib/python3.8/dist-packages/pandas/io/common.py\u001b[0m in \u001b[0;36mget_handle\u001b[0;34m(path_or_buf, mode, encoding, compression, memory_map, is_text, errors, storage_options)\u001b[0m\n\u001b[1;32m    709\u001b[0m         \u001b[0;32melse\u001b[0m\u001b[0;34m:\u001b[0m\u001b[0;34m\u001b[0m\u001b[0;34m\u001b[0m\u001b[0m\n\u001b[1;32m    710\u001b[0m             \u001b[0;31m# Binary mode\u001b[0m\u001b[0;34m\u001b[0m\u001b[0;34m\u001b[0m\u001b[0;34m\u001b[0m\u001b[0m\n\u001b[0;32m--> 711\u001b[0;31m             \u001b[0mhandle\u001b[0m \u001b[0;34m=\u001b[0m \u001b[0mopen\u001b[0m\u001b[0;34m(\u001b[0m\u001b[0mhandle\u001b[0m\u001b[0;34m,\u001b[0m \u001b[0mioargs\u001b[0m\u001b[0;34m.\u001b[0m\u001b[0mmode\u001b[0m\u001b[0;34m)\u001b[0m\u001b[0;34m\u001b[0m\u001b[0;34m\u001b[0m\u001b[0m\n\u001b[0m\u001b[1;32m    712\u001b[0m         \u001b[0mhandles\u001b[0m\u001b[0;34m.\u001b[0m\u001b[0mappend\u001b[0m\u001b[0;34m(\u001b[0m\u001b[0mhandle\u001b[0m\u001b[0;34m)\u001b[0m\u001b[0;34m\u001b[0m\u001b[0;34m\u001b[0m\u001b[0m\n\u001b[1;32m    713\u001b[0m \u001b[0;34m\u001b[0m\u001b[0m\n",
            "\u001b[0;31mFileNotFoundError\u001b[0m: [Errno 2] No such file or directory: 'courses.xlsx'"
          ]
        }
      ],
      "source": [
        "import pandas as pd\n",
        "import numpy as np\n",
        "import random\n",
        "courses= pd.ExcelFile(\"courses.xlsx\")\n"
      ]
    },
    {
      "cell_type": "code",
      "source": [],
      "metadata": {
        "id": "CSUdfq3lWyVZ"
      },
      "execution_count": null,
      "outputs": []
    },
    {
      "cell_type": "code",
      "source": [
        "courses.sheet_names[0]"
      ],
      "metadata": {
        "id": "Yd1Iw_o_b9aA"
      },
      "execution_count": null,
      "outputs": []
    },
    {
      "cell_type": "code",
      "source": [
        "coursesDic=dict()\n",
        "for sheetnum,sheet in enumerate(courses.sheet_names):\n",
        "    \n",
        "    # Parse data from each worksheet as a Pandas DataFrame and append it \n",
        "    # to the dic\n",
        "    df = courses.parse(sheet)\n",
        "    df.set_index('name',inplace=True)\n",
        "    df[\"e\"]=1\n",
        "    coursesDic[courses.sheet_names[sheetnum]]=df"
      ],
      "metadata": {
        "id": "qlvUDJtMW8m0"
      },
      "execution_count": null,
      "outputs": []
    },
    {
      "cell_type": "code",
      "source": [
        "coursesDic2=coursesDic"
      ],
      "metadata": {
        "id": "O00uvy11qrHk"
      },
      "execution_count": null,
      "outputs": []
    },
    {
      "cell_type": "code",
      "source": [
        "students=pd.DataFrame(columns=['name'])\n",
        "students.set_index('name',inplace=True)\n",
        "students[\"e\"]=0\n",
        "\n",
        "for course in coursesDic.values():\n",
        "\n",
        "  students=pd.merge(students,course, how='outer',left_index=True, right_index=True).dropna(axis=1)\n",
        "  \n",
        "\n",
        "students"
      ],
      "metadata": {
        "id": "SozCEu4PZowH"
      },
      "execution_count": null,
      "outputs": []
    },
    {
      "cell_type": "code",
      "source": [
        "def isInCourse(course):\n",
        "\n",
        "  try:\n",
        "    return coursesDic[course].loc[students.index[116]].count()>0\n",
        "  except:\n",
        "    return False\n",
        "\n",
        "isInCourse(\"Robotics\")\n",
        "studentMCourses=[]\n",
        "for course in coursesDic2.keys():\n",
        "  if isInCourse(course):\n",
        "    studentMCourses.append(course)\n"
      ],
      "metadata": {
        "id": "vjkJW3Ilvs3A"
      },
      "execution_count": null,
      "outputs": []
    },
    {
      "cell_type": "code",
      "source": [
        "studentMCourses"
      ],
      "metadata": {
        "id": "Cbhmyyo36KUZ"
      },
      "execution_count": null,
      "outputs": []
    },
    {
      "cell_type": "code",
      "source": [
        "def MAD(x):\n",
        "  '''\n",
        "  calculates the median absolute deviation which is defined as median(|x_i - median(x)|\n",
        "  inputs: arraylike \n",
        "          X\n",
        "  outputs: numpy float\n",
        "          MAD\n",
        "  '''\n",
        "  return np.median(np.absolute(x - np.median(x)))\n"
      ],
      "metadata": {
        "id": "co-xdJpKnkma"
      },
      "execution_count": null,
      "outputs": []
    },
    {
      "cell_type": "code",
      "source": [
        "\n",
        "\n",
        "def isIntersected(course1,course2):\n",
        "  '''\n",
        "  checks the intersection of students between two courses\n",
        "  inputs: str\n",
        "          course 1 name , course 2 name\n",
        "  outputs: bool\n",
        "           True if there is intersection and False otherwise\n",
        "  '''\n",
        "  df_merge = pd.merge(coursesDic[course1], coursesDic[course2], how='inner',left_index=True, right_index=True)\n",
        "  return not len(df_merge)==0\n",
        "\n"
      ],
      "metadata": {
        "id": "O-UO_4t_aFHi"
      },
      "execution_count": null,
      "outputs": []
    },
    {
      "cell_type": "code",
      "source": [
        "def isTaken(course):\n",
        "  '''\n",
        "  checks whether the courses is already in the time table or not\n",
        "  inputs: str\n",
        "          course name\n",
        "  outputs: bool\n",
        "           True if exists in the table, False otherwise\n",
        "  '''\n",
        "  t1=any(timeTable[\"course1\"].astype(str).str.contains(course, regex=False))\n",
        "  t2=any(timeTable[\"course2\"].astype(str).str.contains(course, regex=False))\n",
        "  return t1 or t2"
      ],
      "metadata": {
        "id": "5FBSqfvSSW_H"
      },
      "execution_count": null,
      "outputs": []
    },
    {
      "cell_type": "code",
      "source": [
        "timeTablelist = {'course1':[], 'course2': []}\n",
        "timeTable = pd.DataFrame(data=timeTablelist)\n",
        "for i in range(10000):\n",
        "  randCourseI=random.choice(list(coursesDic.keys()))\n",
        "  randCourseJ=random.choice(list(coursesDic.keys()))\n",
        "\n",
        "  if(not isTaken(randCourseI) and  not isTaken(randCourseJ)):\n",
        "    if(isIntersected(randCourseI,randCourseJ)==False):\n",
        "      \n",
        "\n",
        "      dayNCourses = pd.DataFrame([[randCourseI,randCourseJ]],\n",
        "                                 columns=timeTable.columns)\n",
        "      timeTable=timeTable.append(dayNCourses,ignore_index=True)\n",
        "      coursesDic.pop(randCourseI)\n",
        "      coursesDic.pop(randCourseJ)\n"
      ],
      "metadata": {
        "id": "4TPKBpn8aN-q"
      },
      "execution_count": null,
      "outputs": []
    },
    {
      "cell_type": "code",
      "source": [
        "timeTable"
      ],
      "metadata": {
        "id": "zP-r52JNdG2k"
      },
      "execution_count": null,
      "outputs": []
    },
    {
      "cell_type": "code",
      "source": [
        "studentMTT=timeTable[timeTable[\"course1\"].astype(str).str.contains(\"|\".join(studentMCourses), regex=True) | timeTable[\"course2\"].astype(str).str.contains(\"|\".join(studentMCourses), regex=True) ]\n",
        "index=studentMTT.index\n",
        "display(studentMTT)\n"
      ],
      "metadata": {
        "id": "Q0Bfisanu5_3"
      },
      "execution_count": null,
      "outputs": []
    },
    {
      "cell_type": "code",
      "source": [
        "print(MAD(index))\n",
        "print(timeTable.shape[0])"
      ],
      "metadata": {
        "id": "JwWu2BAOS2gJ"
      },
      "execution_count": null,
      "outputs": []
    },
    {
      "cell_type": "code",
      "source": [
        "print(f\"left out courses are:\\n{list(coursesDic.keys())}\")"
      ],
      "metadata": {
        "id": "_GLVCJ8UoEYj"
      },
      "execution_count": null,
      "outputs": []
    },
    {
      "cell_type": "code",
      "source": [],
      "metadata": {
        "id": "p3dgdmSNvVKM"
      },
      "execution_count": null,
      "outputs": []
    },
    {
      "cell_type": "code",
      "source": [],
      "metadata": {
        "id": "XtGsq8Qmq8SN"
      },
      "execution_count": null,
      "outputs": []
    },
    {
      "cell_type": "code",
      "source": [],
      "metadata": {
        "id": "mrxk7i6MS-G4"
      },
      "execution_count": null,
      "outputs": []
    },
    {
      "cell_type": "code",
      "source": [],
      "metadata": {
        "id": "CDjwunkuYQKU"
      },
      "execution_count": null,
      "outputs": []
    },
    {
      "cell_type": "code",
      "source": [],
      "metadata": {
        "id": "0NepgcT9UxEH"
      },
      "execution_count": null,
      "outputs": []
    }
  ]
}