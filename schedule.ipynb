{
 "cells": [
  {
   "cell_type": "code",
   "execution_count": 179,
   "metadata": {
    "id": "PfFe89YuWVZF"
   },
   "outputs": [],
   "source": [
    "import pandas as pd\n",
    "import numpy as np\n",
    "import random\n",
    "import time\n",
    "import warnings\n",
    "warnings.filterwarnings(\"ignore\")\n",
    "courses= pd.ExcelFile(\"courses.xlsx\")\n"
   ]
  },
  {
   "cell_type": "code",
   "execution_count": null,
   "metadata": {
    "id": "CSUdfq3lWyVZ"
   },
   "outputs": [],
   "source": []
  },
  {
   "cell_type": "code",
   "execution_count": null,
   "metadata": {
    "id": "Yd1Iw_o_b9aA"
   },
   "outputs": [],
   "source": []
  },
  {
   "cell_type": "code",
   "execution_count": null,
   "metadata": {
    "id": "vjkJW3Ilvs3A"
   },
   "outputs": [],
   "source": [
    "\n",
    "  "
   ]
  },
  {
   "cell_type": "code",
   "execution_count": null,
   "metadata": {
    "id": "Cbhmyyo36KUZ"
   },
   "outputs": [],
   "source": []
  },
  {
   "cell_type": "code",
   "execution_count": 180,
   "metadata": {
    "id": "co-xdJpKnkma"
   },
   "outputs": [],
   "source": [
    "def MAD(x):\n",
    "    '''\n",
    "    calculates the median absolute deviation which is defined as median(|x_i - median(x)|\n",
    "    inputs: arraylike \n",
    "          X\n",
    "    outputs: numpy float\n",
    "          MAD\n",
    "    '''\n",
    "    return np.median(np.absolute(x - np.median(x)))\n",
    "\n",
    "def isTaken(course):\n",
    "    '''\n",
    "    checks whether the courses is already in the time table or not\n",
    "    inputs: str\n",
    "          course name\n",
    "    outputs: bool\n",
    "           True if exists in the table, False otherwise\n",
    "    '''\n",
    "    t1=any(timeTable[\"course1\"].astype(str).str.match(course))\n",
    "    t2=any(timeTable[\"course2\"].astype(str).str.match(course))\n",
    "    t3=any(timeTable[\"course3\"].astype(str).str.match(course))\n",
    "\n",
    "    return t1 or t2 or t3\n",
    "\n",
    "\n",
    "def isIntersected(*args):\n",
    "    '''\n",
    "    checks the intersection of students between two courses\n",
    "    inputs: str\n",
    "          course 1 name , course 2 name\n",
    "    outputs: bool\n",
    "           True if there is intersection and False otherwise\n",
    "    '''\n",
    "\n",
    "    df_merge=pd.concat(list(args))\n",
    "    isduplicated=df_merge.duplicated()\n",
    "    return not len(df_merge[isduplicated])==0\n",
    "\n",
    "\n",
    "def isInCourse(course,M):\n",
    "    '''\n",
    "    checks whether stuent M is in course Course or not\n",
    "\n",
    "    '''\n",
    "\n",
    "    try:\n",
    "        return coursesDic2[course].loc[students.index[M]].count()>0\n",
    "    except:\n",
    "        return False\n",
    "\n",
    "def getStudentCourses(M):\n",
    "    '''\n",
    "    returns student M courses\n",
    "\n",
    "    '''\n",
    "    studentMCourses=[]\n",
    "    for course in coursesDic2.keys():\n",
    "        if isInCourse(course,M):\n",
    "            studentMCourses.append(course)\n",
    "        return studentMCourses\n",
    "\n",
    "\n",
    "\n",
    "def studentMMAD(M):\n",
    "    '''\n",
    "    calculates the MAD of student M's time table\n",
    "\n",
    "    '''\n",
    "    studentMTimeTable=timeTable[timeTable[\"course1\"].astype(str).str.match(\"|\".join(getStudentCourses(M))) | \n",
    "                      timeTable[\"course2\"].astype(str).str.match(\"|\".join(getStudentCourses(M))) |\n",
    "                      timeTable[\"course3\"].astype(str).str.match(\"|\".join(getStudentCourses(M)))]\n",
    "    index=studentMTimeTable.index\n",
    "    return MAD(index)   \n",
    "\n",
    "def avgMAD():\n",
    "  '''\n",
    "  calculates avgerage Mad for this particular time table\n",
    "  '''\n",
    "  \n",
    "  sum=0\n",
    "  for M in range(len(students)):\n",
    "    sum+=studentMMAD(M)\n",
    "\n",
    "  avg=sum/len(students)\n",
    "  return avg"
   ]
  },
  {
   "cell_type": "code",
   "execution_count": null,
   "metadata": {
    "id": "O-UO_4t_aFHi"
   },
   "outputs": [],
   "source": []
  },
  {
   "cell_type": "code",
   "execution_count": null,
   "metadata": {
    "id": "5FBSqfvSSW_H"
   },
   "outputs": [],
   "source": []
  },
  {
   "cell_type": "code",
   "execution_count": null,
   "metadata": {
    "id": "4TPKBpn8aN-q"
   },
   "outputs": [],
   "source": []
  },
  {
   "cell_type": "code",
   "execution_count": null,
   "metadata": {
    "id": "vMgVz5NzyFfG"
   },
   "outputs": [],
   "source": []
  },
  {
   "cell_type": "code",
   "execution_count": null,
   "metadata": {
    "id": "fm0K40kHbASP"
   },
   "outputs": [],
   "source": []
  },
  {
   "cell_type": "code",
   "execution_count": null,
   "metadata": {
    "id": "Q0Bfisanu5_3"
   },
   "outputs": [],
   "source": []
  },
  {
   "cell_type": "code",
   "execution_count": null,
   "metadata": {
    "id": "qlvUDJtMW8m0"
   },
   "outputs": [],
   "source": []
  },
  {
   "cell_type": "code",
   "execution_count": 181,
   "metadata": {
    "id": "O00uvy11qrHk"
   },
   "outputs": [],
   "source": []
  },
  {
   "cell_type": "code",
   "execution_count": null,
   "metadata": {
    "id": "YhpYRe3ldApR"
   },
   "outputs": [],
   "source": []
  },
  {
   "cell_type": "code",
   "execution_count": 182,
   "metadata": {
    "id": "L6yiVMn7QCwm"
   },
   "outputs": [],
   "source": [
    "start_time = time.time()\n",
    "\n",
    "timeTableList=[]\n",
    "for iteration in range(30):\n",
    "    coursesDic=dict()\n",
    "    for sheetnum,sheet in enumerate(courses.sheet_names):\n",
    "\n",
    "        # Parse data from each worksheet as a Pandas DataFrame and append it \n",
    "        # to the dic\n",
    "        df = courses.parse(sheet)\n",
    "        df.set_index('name',inplace=True)\n",
    "        df[\"name_col\"]=df.index\n",
    "        coursesDic[courses.sheet_names[sheetnum]]=df\n",
    "\n",
    "        coursesDic2=coursesDic.copy()\n",
    "\n",
    "\n",
    "    timeTable = pd.DataFrame(data={'course1':[], 'course2': [],'course3':[]})\n",
    "\n",
    "    for i in range(1000):\n",
    "        try:\n",
    "            randCourseI=random.choice(list(coursesDic.keys()))\n",
    "            randCourseJ=random.choice(list(coursesDic.keys()))\n",
    "            randCourseK=random.choice(list(coursesDic.keys()))\n",
    "        except:\n",
    "            None\n",
    "\n",
    "        if(not isTaken(randCourseI) and  not isTaken(randCourseJ)and  not isTaken(randCourseK)):\n",
    "            if(isIntersected(coursesDic2[randCourseI],coursesDic2[randCourseJ],coursesDic2[randCourseK])==False):\n",
    "\n",
    "\n",
    "                dayNCourses = pd.DataFrame([[randCourseI,randCourseJ,randCourseK]],\n",
    "                                          columns=timeTable.columns)\n",
    "                timeTable=timeTable.append(dayNCourses,ignore_index=True)\n",
    "                coursesDic.pop(randCourseI)\n",
    "                coursesDic.pop(randCourseJ)\n",
    "                coursesDic.pop(randCourseK)\n",
    "\n",
    "\n",
    "\n",
    "    for i in range(500):\n",
    "        try:\n",
    "            randCourseI=random.choice(list(coursesDic.keys()))\n",
    "            randCourseJ=random.choice(list(coursesDic.keys()))\n",
    "        except:\n",
    "            None\n",
    "\n",
    "        if(not isTaken(randCourseI) and  not isTaken(randCourseJ)):\n",
    "            if(isIntersected(coursesDic2[randCourseI],coursesDic2[randCourseJ])==False):\n",
    "\n",
    "\n",
    "                dayNCourses = pd.DataFrame([[randCourseI,randCourseJ,\"-\"]],\n",
    "                                          columns=timeTable.columns)\n",
    "                timeTable=timeTable.append(dayNCourses,ignore_index=True)\n",
    "                coursesDic.pop(randCourseI)\n",
    "                coursesDic.pop(randCourseJ)\n",
    "\n",
    "\n",
    "    for course in list(coursesDic.keys()):\n",
    "\n",
    "            coursesDic.pop(course)\n",
    "\n",
    "            dayNCourses = pd.DataFrame([[course,\"-\",\"-\"]],\n",
    "                                      columns=timeTable.columns)\n",
    "            timeTable=timeTable.append(dayNCourses,ignore_index=True)\n",
    "\n",
    "    timeTableList.append(timeTable)\n",
    "\n",
    "#Finding the table with minimum number of days \n",
    "for i in range(len(timeTableList)):\n",
    "    if len(timeTableList[i])<len(timeTable):\n",
    "        timeTable=timeTableList[i]\n",
    "\n",
    "#Creating a students dataframe from all courses\n",
    "students=pd.DataFrame(columns=['name'])\n",
    "students.set_index('name',inplace=True)\n",
    "students[\"e\"]=0\n",
    "\n",
    "for course in coursesDic2.values():\n",
    "\n",
    "    students=pd.merge(students,course, how='outer',left_index=True, right_index=True).dropna(axis=1)\n",
    "\n",
    "\n",
    "#shuffling and choosing the timetable with the maximum \n",
    "\n",
    "#average median absolute deviation\n",
    "avgMADList=[]\n",
    "timeTableList=[]\n",
    "for i in range(100):\n",
    "    timeTable=timeTable.sample(frac = 1,ignore_index=True)\n",
    "    timeTableList.append(timeTable)\n",
    "    avgMADList.append(avgMAD())\n",
    "    \n",
    "\n",
    "maxIndex=avgMADList.index(max(avgMADList))\n",
    "timeTable=timeTableList[maxIndex]"
   ]
  },
  {
   "cell_type": "code",
   "execution_count": null,
   "metadata": {},
   "outputs": [],
   "source": [
    "timeTable"
   ]
  },
  {
   "cell_type": "code",
   "execution_count": null,
   "metadata": {
    "id": "LIG8FSpxqVf9"
   },
   "outputs": [],
   "source": []
  },
  {
   "cell_type": "code",
   "execution_count": null,
   "metadata": {
    "id": "SozCEu4PZowH"
   },
   "outputs": [],
   "source": [
    "\n"
   ]
  },
  {
   "cell_type": "code",
   "execution_count": null,
   "metadata": {
    "id": "SlUhiiAjBXSC"
   },
   "outputs": [],
   "source": []
  },
  {
   "cell_type": "code",
   "execution_count": null,
   "metadata": {
    "id": "txAzH2CW_tyq"
   },
   "outputs": [],
   "source": []
  },
  {
   "cell_type": "code",
   "execution_count": null,
   "metadata": {
    "id": "_GLVCJ8UoEYj"
   },
   "outputs": [],
   "source": []
  },
  {
   "cell_type": "code",
   "execution_count": null,
   "metadata": {
    "colab": {
     "base_uri": "https://localhost:8080/",
     "height": 520
    },
    "id": "zP-r52JNdG2k",
    "outputId": "af74cc6d-02c3-4be7-984b-6e953942e4c7"
   },
   "outputs": [],
   "source": []
  },
  {
   "cell_type": "code",
   "execution_count": 183,
   "metadata": {
    "id": "JwWu2BAOS2gJ"
   },
   "outputs": [
    {
     "data": {
      "text/html": [
       "<div>\n",
       "<style scoped>\n",
       "    .dataframe tbody tr th:only-of-type {\n",
       "        vertical-align: middle;\n",
       "    }\n",
       "\n",
       "    .dataframe tbody tr th {\n",
       "        vertical-align: top;\n",
       "    }\n",
       "\n",
       "    .dataframe thead th {\n",
       "        text-align: right;\n",
       "    }\n",
       "</style>\n",
       "<table border=\"1\" class=\"dataframe\">\n",
       "  <thead>\n",
       "    <tr style=\"text-align: right;\">\n",
       "      <th></th>\n",
       "      <th>course1</th>\n",
       "      <th>course2</th>\n",
       "      <th>course3</th>\n",
       "    </tr>\n",
       "  </thead>\n",
       "  <tbody>\n",
       "    <tr>\n",
       "      <th>0</th>\n",
       "      <td>Physics</td>\n",
       "      <td>ManufSystemAutomation</td>\n",
       "      <td>Thermodynamics</td>\n",
       "    </tr>\n",
       "    <tr>\n",
       "      <th>1</th>\n",
       "      <td>MechanicsAndThermodynamics</td>\n",
       "      <td>Ethics</td>\n",
       "      <td>FundOfManuf</td>\n",
       "    </tr>\n",
       "    <tr>\n",
       "      <th>2</th>\n",
       "      <td>accounting</td>\n",
       "      <td>AVS</td>\n",
       "      <td>Control1</td>\n",
       "    </tr>\n",
       "    <tr>\n",
       "      <th>3</th>\n",
       "      <td>Mechatronics1</td>\n",
       "      <td>Microcontroller</td>\n",
       "      <td>Mechanics1</td>\n",
       "    </tr>\n",
       "    <tr>\n",
       "      <th>4</th>\n",
       "      <td>Electronics1</td>\n",
       "      <td>-</td>\n",
       "      <td>-</td>\n",
       "    </tr>\n",
       "    <tr>\n",
       "      <th>5</th>\n",
       "      <td>NumericalControl</td>\n",
       "      <td>-</td>\n",
       "      <td>-</td>\n",
       "    </tr>\n",
       "    <tr>\n",
       "      <th>6</th>\n",
       "      <td>Vibration</td>\n",
       "      <td>-</td>\n",
       "      <td>-</td>\n",
       "    </tr>\n",
       "    <tr>\n",
       "      <th>7</th>\n",
       "      <td>SensorsAndActuators</td>\n",
       "      <td>LinearAlgebra</td>\n",
       "      <td>Fields</td>\n",
       "    </tr>\n",
       "    <tr>\n",
       "      <th>8</th>\n",
       "      <td>EngineeringDrawing</td>\n",
       "      <td>DigitalControl</td>\n",
       "      <td>Calc3</td>\n",
       "    </tr>\n",
       "    <tr>\n",
       "      <th>9</th>\n",
       "      <td>CSAndProgramming</td>\n",
       "      <td>Fluid</td>\n",
       "      <td>-</td>\n",
       "    </tr>\n",
       "    <tr>\n",
       "      <th>10</th>\n",
       "      <td>FundOfMangement</td>\n",
       "      <td>MachineDesign2</td>\n",
       "      <td>-</td>\n",
       "    </tr>\n",
       "    <tr>\n",
       "      <th>11</th>\n",
       "      <td>Logic</td>\n",
       "      <td>calc1</td>\n",
       "      <td>PLC</td>\n",
       "    </tr>\n",
       "    <tr>\n",
       "      <th>12</th>\n",
       "      <td>TechnicalWriting</td>\n",
       "      <td>-</td>\n",
       "      <td>-</td>\n",
       "    </tr>\n",
       "    <tr>\n",
       "      <th>13</th>\n",
       "      <td>InudstrialElectronics</td>\n",
       "      <td>Robotics</td>\n",
       "      <td>Signal</td>\n",
       "    </tr>\n",
       "  </tbody>\n",
       "</table>\n",
       "</div>"
      ],
      "text/plain": [
       "                       course1                course2         course3\n",
       "0                      Physics  ManufSystemAutomation  Thermodynamics\n",
       "1   MechanicsAndThermodynamics                 Ethics     FundOfManuf\n",
       "2                   accounting                    AVS        Control1\n",
       "3                Mechatronics1        Microcontroller      Mechanics1\n",
       "4                 Electronics1                      -               -\n",
       "5             NumericalControl                      -               -\n",
       "6                    Vibration                      -               -\n",
       "7          SensorsAndActuators          LinearAlgebra          Fields\n",
       "8           EngineeringDrawing         DigitalControl           Calc3\n",
       "9             CSAndProgramming                  Fluid               -\n",
       "10             FundOfMangement         MachineDesign2               -\n",
       "11                       Logic                  calc1             PLC\n",
       "12            TechnicalWriting                      -               -\n",
       "13       InudstrialElectronics               Robotics          Signal"
      ]
     },
     "execution_count": 183,
     "metadata": {},
     "output_type": "execute_result"
    }
   ],
   "source": []
  },
  {
   "cell_type": "code",
   "execution_count": 184,
   "metadata": {
    "colab": {
     "base_uri": "https://localhost:8080/"
    },
    "id": "p3dgdmSNvVKM",
    "outputId": "475a6053-c64e-4430-bf41-5b880d3de22b"
   },
   "outputs": [
    {
     "name": "stdout",
     "output_type": "stream",
     "text": [
      "run time: 2.170034190018972 Minutes\n"
     ]
    }
   ],
   "source": [
    "end_time=time.time()\n",
    "print(f\"run time: {(end_time - start_time)/60} Minutes\")\n"
   ]
  },
  {
   "cell_type": "code",
   "execution_count": null,
   "metadata": {
    "id": "XtGsq8Qmq8SN"
   },
   "outputs": [],
   "source": []
  },
  {
   "cell_type": "code",
   "execution_count": null,
   "metadata": {
    "id": "mrxk7i6MS-G4"
   },
   "outputs": [],
   "source": []
  },
  {
   "cell_type": "code",
   "execution_count": null,
   "metadata": {
    "id": "CDjwunkuYQKU"
   },
   "outputs": [],
   "source": []
  },
  {
   "cell_type": "code",
   "execution_count": null,
   "metadata": {
    "id": "0NepgcT9UxEH"
   },
   "outputs": [],
   "source": []
  },
  {
   "cell_type": "code",
   "execution_count": null,
   "metadata": {
    "id": "6KlyegeavTSu"
   },
   "outputs": [],
   "source": []
  }
 ],
 "metadata": {
  "colab": {
   "provenance": []
  },
  "kernelspec": {
   "display_name": "Python 3 (ipykernel)",
   "language": "python",
   "name": "python3"
  },
  "language_info": {
   "codemirror_mode": {
    "name": "ipython",
    "version": 3
   },
   "file_extension": ".py",
   "mimetype": "text/x-python",
   "name": "python",
   "nbconvert_exporter": "python",
   "pygments_lexer": "ipython3",
   "version": "3.9.7"
  }
 },
 "nbformat": 4,
 "nbformat_minor": 1
}
