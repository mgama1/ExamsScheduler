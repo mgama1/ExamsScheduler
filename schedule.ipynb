{
  "nbformat": 4,
  "nbformat_minor": 0,
  "metadata": {
    "colab": {
      "provenance": []
    },
    "kernelspec": {
      "name": "python3",
      "display_name": "Python 3"
    },
    "language_info": {
      "name": "python"
    }
  },
  "cells": [
    {
      "cell_type": "code",
      "execution_count": 475,
      "metadata": {
        "id": "PfFe89YuWVZF"
      },
      "outputs": [],
      "source": [
        "import pandas as pd\n",
        "import numpy as np\n",
        "import random\n",
        "courses= pd.ExcelFile(\"courses.xlsx\")\n"
      ]
    },
    {
      "cell_type": "code",
      "source": [],
      "metadata": {
        "id": "CSUdfq3lWyVZ"
      },
      "execution_count": 475,
      "outputs": []
    },
    {
      "cell_type": "code",
      "source": [
        "courses.sheet_names[0]"
      ],
      "metadata": {
        "id": "Yd1Iw_o_b9aA",
        "colab": {
          "base_uri": "https://localhost:8080/",
          "height": 35
        },
        "outputId": "20ac0886-c108-48cd-c01e-3d7a5fa59e7d"
      },
      "execution_count": 476,
      "outputs": [
        {
          "output_type": "execute_result",
          "data": {
            "text/plain": [
              "'Robotics'"
            ],
            "application/vnd.google.colaboratory.intrinsic+json": {
              "type": "string"
            }
          },
          "metadata": {},
          "execution_count": 476
        }
      ]
    },
    {
      "cell_type": "code",
      "source": [
        "coursesDic=dict()\n",
        "for sheetnum,sheet in enumerate(courses.sheet_names):\n",
        "    \n",
        "    # Parse data from each worksheet as a Pandas DataFrame and append it \n",
        "    # to the dic\n",
        "    df = courses.parse(sheet)\n",
        "    df.set_index('name',inplace=True)\n",
        "    df[\"name_col\"]=df.index\n",
        "    coursesDic[courses.sheet_names[sheetnum]]=df"
      ],
      "metadata": {
        "id": "qlvUDJtMW8m0"
      },
      "execution_count": 477,
      "outputs": []
    },
    {
      "cell_type": "code",
      "source": [
        "coursesDic2=coursesDic.copy()\n",
        "coursesDic2[\"Fluid\"].head()\n"
      ],
      "metadata": {
        "id": "O00uvy11qrHk",
        "colab": {
          "base_uri": "https://localhost:8080/",
          "height": 238
        },
        "outputId": "0cda5397-cc50-48a9-d859-a15a55578c3e"
      },
      "execution_count": 478,
      "outputs": [
        {
          "output_type": "execute_result",
          "data": {
            "text/plain": [
              "                                                      name_col\n",
              "name                                                          \n",
              "ابرام عاطف جرجس كامل                      ابرام عاطف جرجس كامل\n",
              "احمد سعيد عبد الفتاح خليل مرسي  احمد سعيد عبد الفتاح خليل مرسي\n",
              "احمد شعبان محمد احمد الفقي          احمد شعبان محمد احمد الفقي\n",
              "احمد محمد محمد كامل                        احمد محمد محمد كامل\n",
              "احمد محمد مفتاح                                احمد محمد مفتاح"
            ],
            "text/html": [
              "\n",
              "  <div id=\"df-b8166213-24f0-4f60-9e6e-fc456f388d78\">\n",
              "    <div class=\"colab-df-container\">\n",
              "      <div>\n",
              "<style scoped>\n",
              "    .dataframe tbody tr th:only-of-type {\n",
              "        vertical-align: middle;\n",
              "    }\n",
              "\n",
              "    .dataframe tbody tr th {\n",
              "        vertical-align: top;\n",
              "    }\n",
              "\n",
              "    .dataframe thead th {\n",
              "        text-align: right;\n",
              "    }\n",
              "</style>\n",
              "<table border=\"1\" class=\"dataframe\">\n",
              "  <thead>\n",
              "    <tr style=\"text-align: right;\">\n",
              "      <th></th>\n",
              "      <th>name_col</th>\n",
              "    </tr>\n",
              "    <tr>\n",
              "      <th>name</th>\n",
              "      <th></th>\n",
              "    </tr>\n",
              "  </thead>\n",
              "  <tbody>\n",
              "    <tr>\n",
              "      <th>ابرام عاطف جرجس كامل</th>\n",
              "      <td>ابرام عاطف جرجس كامل</td>\n",
              "    </tr>\n",
              "    <tr>\n",
              "      <th>احمد سعيد عبد الفتاح خليل مرسي</th>\n",
              "      <td>احمد سعيد عبد الفتاح خليل مرسي</td>\n",
              "    </tr>\n",
              "    <tr>\n",
              "      <th>احمد شعبان محمد احمد الفقي</th>\n",
              "      <td>احمد شعبان محمد احمد الفقي</td>\n",
              "    </tr>\n",
              "    <tr>\n",
              "      <th>احمد محمد محمد كامل</th>\n",
              "      <td>احمد محمد محمد كامل</td>\n",
              "    </tr>\n",
              "    <tr>\n",
              "      <th>احمد محمد مفتاح</th>\n",
              "      <td>احمد محمد مفتاح</td>\n",
              "    </tr>\n",
              "  </tbody>\n",
              "</table>\n",
              "</div>\n",
              "      <button class=\"colab-df-convert\" onclick=\"convertToInteractive('df-b8166213-24f0-4f60-9e6e-fc456f388d78')\"\n",
              "              title=\"Convert this dataframe to an interactive table.\"\n",
              "              style=\"display:none;\">\n",
              "        \n",
              "  <svg xmlns=\"http://www.w3.org/2000/svg\" height=\"24px\"viewBox=\"0 0 24 24\"\n",
              "       width=\"24px\">\n",
              "    <path d=\"M0 0h24v24H0V0z\" fill=\"none\"/>\n",
              "    <path d=\"M18.56 5.44l.94 2.06.94-2.06 2.06-.94-2.06-.94-.94-2.06-.94 2.06-2.06.94zm-11 1L8.5 8.5l.94-2.06 2.06-.94-2.06-.94L8.5 2.5l-.94 2.06-2.06.94zm10 10l.94 2.06.94-2.06 2.06-.94-2.06-.94-.94-2.06-.94 2.06-2.06.94z\"/><path d=\"M17.41 7.96l-1.37-1.37c-.4-.4-.92-.59-1.43-.59-.52 0-1.04.2-1.43.59L10.3 9.45l-7.72 7.72c-.78.78-.78 2.05 0 2.83L4 21.41c.39.39.9.59 1.41.59.51 0 1.02-.2 1.41-.59l7.78-7.78 2.81-2.81c.8-.78.8-2.07 0-2.86zM5.41 20L4 18.59l7.72-7.72 1.47 1.35L5.41 20z\"/>\n",
              "  </svg>\n",
              "      </button>\n",
              "      \n",
              "  <style>\n",
              "    .colab-df-container {\n",
              "      display:flex;\n",
              "      flex-wrap:wrap;\n",
              "      gap: 12px;\n",
              "    }\n",
              "\n",
              "    .colab-df-convert {\n",
              "      background-color: #E8F0FE;\n",
              "      border: none;\n",
              "      border-radius: 50%;\n",
              "      cursor: pointer;\n",
              "      display: none;\n",
              "      fill: #1967D2;\n",
              "      height: 32px;\n",
              "      padding: 0 0 0 0;\n",
              "      width: 32px;\n",
              "    }\n",
              "\n",
              "    .colab-df-convert:hover {\n",
              "      background-color: #E2EBFA;\n",
              "      box-shadow: 0px 1px 2px rgba(60, 64, 67, 0.3), 0px 1px 3px 1px rgba(60, 64, 67, 0.15);\n",
              "      fill: #174EA6;\n",
              "    }\n",
              "\n",
              "    [theme=dark] .colab-df-convert {\n",
              "      background-color: #3B4455;\n",
              "      fill: #D2E3FC;\n",
              "    }\n",
              "\n",
              "    [theme=dark] .colab-df-convert:hover {\n",
              "      background-color: #434B5C;\n",
              "      box-shadow: 0px 1px 3px 1px rgba(0, 0, 0, 0.15);\n",
              "      filter: drop-shadow(0px 1px 2px rgba(0, 0, 0, 0.3));\n",
              "      fill: #FFFFFF;\n",
              "    }\n",
              "  </style>\n",
              "\n",
              "      <script>\n",
              "        const buttonEl =\n",
              "          document.querySelector('#df-b8166213-24f0-4f60-9e6e-fc456f388d78 button.colab-df-convert');\n",
              "        buttonEl.style.display =\n",
              "          google.colab.kernel.accessAllowed ? 'block' : 'none';\n",
              "\n",
              "        async function convertToInteractive(key) {\n",
              "          const element = document.querySelector('#df-b8166213-24f0-4f60-9e6e-fc456f388d78');\n",
              "          const dataTable =\n",
              "            await google.colab.kernel.invokeFunction('convertToInteractive',\n",
              "                                                     [key], {});\n",
              "          if (!dataTable) return;\n",
              "\n",
              "          const docLinkHtml = 'Like what you see? Visit the ' +\n",
              "            '<a target=\"_blank\" href=https://colab.research.google.com/notebooks/data_table.ipynb>data table notebook</a>'\n",
              "            + ' to learn more about interactive tables.';\n",
              "          element.innerHTML = '';\n",
              "          dataTable['output_type'] = 'display_data';\n",
              "          await google.colab.output.renderOutput(dataTable, element);\n",
              "          const docLink = document.createElement('div');\n",
              "          docLink.innerHTML = docLinkHtml;\n",
              "          element.appendChild(docLink);\n",
              "        }\n",
              "      </script>\n",
              "    </div>\n",
              "  </div>\n",
              "  "
            ]
          },
          "metadata": {},
          "execution_count": 478
        }
      ]
    },
    {
      "cell_type": "code",
      "source": [
        "students=pd.DataFrame(columns=['name'])\n",
        "students.set_index('name',inplace=True)\n",
        "students[\"e\"]=0\n",
        "\n",
        "for course in coursesDic.values():\n",
        "\n",
        "  students=pd.merge(students,course, how='outer',left_index=True, right_index=True).dropna(axis=1)\n",
        "  \n",
        "\n",
        "students"
      ],
      "metadata": {
        "id": "SozCEu4PZowH",
        "colab": {
          "base_uri": "https://localhost:8080/",
          "height": 438
        },
        "outputId": "af12aa97-24c3-42d6-c823-9c00894dc03d"
      },
      "execution_count": 479,
      "outputs": [
        {
          "output_type": "execute_result",
          "data": {
            "text/plain": [
              "Empty DataFrame\n",
              "Columns: []\n",
              "Index: [ابرام عاطف جرجس كامل, ابرام عاطف لطفي وهبه, ابراهيم محمد عطفي محمد حسن, ابراهيم نصر شعبان نصر, احمد اسامه محمدعبد العزيز محمد, احمد اشرف السيد رمضان, احمد اشرف محمد, احمد حسين سيد عبد الدايم, احمد رجب جابر عويس, احمد رضا احمد محمد احمد, احمد سعيد عبد الفتاح خليل مرسي, احمد سيد كامل احمد, احمد شعبان محمد احمد الفقي, احمد عبد العليم حسين عبد المجيد, احمد عبد الله شعبان محمد, احمد عبد الناصر عبدالله عبد العزيز, احمد عصام سيد عبدالعال, احمد علاء عبد الحكيم عبد العليم سنو سي, احمد عيد رمضان ابراهيم, احمد محمد عبد الله محمد احمد, احمد محمد محمد عبد الحليم سعفان, احمد محمد محمد عبد العاطي, احمد محمد محمد كامل, احمد محمد مفتاح, احمد محمود محمد السيد, احمد ناصر محمد محمود, احمد هشام رمضان عبد النعيم جاب الله, احمد وليد محمد ابوالمعاطي عز العرب, احمد ياسر محمد حافظ عبد الكريم, احمدشعبان عويس عبد الرازق, اسلام محمد جمعه عبد الرازق عويس, اسلام محمود عبد القوي محمد, اسماء حسن عبد المعطي عبد الحميد, اسماعيل محمد اسماعيل حسانين علي, السعيد الشربين السعيد الشربين, السيد صلاح السيد عبدالمقصود السيد, امين مصطفي امين محمد, اياد باسم محمد حسن, اياد محمد عثمان هنداوي عبده, ايه صلاح كمال احمد صالح, باسل خالد محي الدين علي, بسنت محمد علي امام, بيتر البير شاكر حنا, بيشوي بشري حنا تادرس حنا المهندس, جون عماد عطيه بشاي, حاتم توبه علي سيد احمد, حازم محمد محمود عبدالله, حسام ايمن رزق جوده غانم, حسام خالد محمد علي, حسام محمد سيد حامد, حسن ممدوح حسن عبدالواحد, خالد عبد الغفار فكري, خالد نادي عويس خلف الله, رحمه احمد علي عبد الجواد, رنا اسامه رجب علام, زكريا محمود محمد علي, زياد عادل محمد كمال, سلمي ياسر سليمان محمد عمر, سيف الدين مصطفي توفيق عوض الله, طارق محمد احمد محمد عبد الباقي, عبد الرحمن احمد عوض صميده, عبد الرحمن حسين احمد حسين, عبد الرحمن علاء الدين وهبه حسن, عبد الرحمن علي منصور ابو سريع محمد, عبد الرحمن مصطفي عبد الحميد غانم, عبد الرحمن مصطفي محمد محمود, عبد الرحمن يحيي محمد علي علي, عبد العايم مصطفي عبدالله عبدالعليم, عبد العظيم سيد عبد العظيم عبد الحميد, عبد العليم مصطفي عبد الله عبد العليم, عبد الله محمد جوده, عبد الله محمد حسن احمد حسن, عبد المنعم مجدي السيد احمد المرشدي, عبدالرحمن خالد سيد عبدالمجيد, عبدالرحمن رجب محمد عزب, عبدالرحمن محمد حسين عبدالحميد, عبدالرحمن محمد عبدالرحمن محمد سرور, عبدالله عادل محمد عبدالله, علي محمد مقبل سيد, عمار خالد سليمان محمود عبد المقصود, عمر رجب امين عبد القوي, عمر محروس محمد عبدالباقي, عمر محمد احمد ابو زيد, عمرو بكار محمد حامد, كريم محمد عبد الرشيد احمد, كريم محمد وهبه عبد التواب, لمياء عبدالناصر محمد صابر محمد, مؤمن يحي محمود احمد, ماريو ناجي داود شنوده فانوس, مايكل ايمن بشري نصرالله, محمد اشرف عبد العظيم محمد, محمد السيد عبد المقصود السيد لادعم, محمد بدوي رمضان متولي شعبان, محمد جابر حمدي عبد القادر, محمد حسن محمد ابراهيم, محمد حسني محمد علي, محمد خالد محمد عبد الحميد مريز, محمد خالد محمد عبدالباقي, محمد رجب ابو سريع مغيب, محمد سيد عبد العليم عبد الواحد, ...]\n",
              "\n",
              "[141 rows x 0 columns]"
            ],
            "text/html": [
              "\n",
              "  <div id=\"df-820d4db8-e026-49eb-9dee-7f54ee23a31c\">\n",
              "    <div class=\"colab-df-container\">\n",
              "      <div>\n",
              "<style scoped>\n",
              "    .dataframe tbody tr th:only-of-type {\n",
              "        vertical-align: middle;\n",
              "    }\n",
              "\n",
              "    .dataframe tbody tr th {\n",
              "        vertical-align: top;\n",
              "    }\n",
              "\n",
              "    .dataframe thead th {\n",
              "        text-align: right;\n",
              "    }\n",
              "</style>\n",
              "<table border=\"1\" class=\"dataframe\">\n",
              "  <thead>\n",
              "    <tr style=\"text-align: right;\">\n",
              "      <th></th>\n",
              "    </tr>\n",
              "    <tr>\n",
              "      <th>name</th>\n",
              "    </tr>\n",
              "  </thead>\n",
              "  <tbody>\n",
              "    <tr>\n",
              "      <th>ابرام عاطف جرجس كامل</th>\n",
              "    </tr>\n",
              "    <tr>\n",
              "      <th>ابرام عاطف لطفي وهبه</th>\n",
              "    </tr>\n",
              "    <tr>\n",
              "      <th>ابراهيم محمد عطفي محمد حسن</th>\n",
              "    </tr>\n",
              "    <tr>\n",
              "      <th>ابراهيم نصر شعبان نصر</th>\n",
              "    </tr>\n",
              "    <tr>\n",
              "      <th>احمد اسامه محمدعبد العزيز محمد</th>\n",
              "    </tr>\n",
              "    <tr>\n",
              "      <th>...</th>\n",
              "    </tr>\n",
              "    <tr>\n",
              "      <th>نور الدين طه محمود عبد العزيز</th>\n",
              "    </tr>\n",
              "    <tr>\n",
              "      <th>وئام عزالدين فؤاد فريد السيد</th>\n",
              "    </tr>\n",
              "    <tr>\n",
              "      <th>وليد محمود عبد الوهاب سيد</th>\n",
              "    </tr>\n",
              "    <tr>\n",
              "      <th>يوسف السادات انور محمد</th>\n",
              "    </tr>\n",
              "    <tr>\n",
              "      <th>يوسف خالد شعبان صابر</th>\n",
              "    </tr>\n",
              "  </tbody>\n",
              "</table>\n",
              "<p>141 rows × 0 columns</p>\n",
              "</div>\n",
              "      <button class=\"colab-df-convert\" onclick=\"convertToInteractive('df-820d4db8-e026-49eb-9dee-7f54ee23a31c')\"\n",
              "              title=\"Convert this dataframe to an interactive table.\"\n",
              "              style=\"display:none;\">\n",
              "        \n",
              "  <svg xmlns=\"http://www.w3.org/2000/svg\" height=\"24px\"viewBox=\"0 0 24 24\"\n",
              "       width=\"24px\">\n",
              "    <path d=\"M0 0h24v24H0V0z\" fill=\"none\"/>\n",
              "    <path d=\"M18.56 5.44l.94 2.06.94-2.06 2.06-.94-2.06-.94-.94-2.06-.94 2.06-2.06.94zm-11 1L8.5 8.5l.94-2.06 2.06-.94-2.06-.94L8.5 2.5l-.94 2.06-2.06.94zm10 10l.94 2.06.94-2.06 2.06-.94-2.06-.94-.94-2.06-.94 2.06-2.06.94z\"/><path d=\"M17.41 7.96l-1.37-1.37c-.4-.4-.92-.59-1.43-.59-.52 0-1.04.2-1.43.59L10.3 9.45l-7.72 7.72c-.78.78-.78 2.05 0 2.83L4 21.41c.39.39.9.59 1.41.59.51 0 1.02-.2 1.41-.59l7.78-7.78 2.81-2.81c.8-.78.8-2.07 0-2.86zM5.41 20L4 18.59l7.72-7.72 1.47 1.35L5.41 20z\"/>\n",
              "  </svg>\n",
              "      </button>\n",
              "      \n",
              "  <style>\n",
              "    .colab-df-container {\n",
              "      display:flex;\n",
              "      flex-wrap:wrap;\n",
              "      gap: 12px;\n",
              "    }\n",
              "\n",
              "    .colab-df-convert {\n",
              "      background-color: #E8F0FE;\n",
              "      border: none;\n",
              "      border-radius: 50%;\n",
              "      cursor: pointer;\n",
              "      display: none;\n",
              "      fill: #1967D2;\n",
              "      height: 32px;\n",
              "      padding: 0 0 0 0;\n",
              "      width: 32px;\n",
              "    }\n",
              "\n",
              "    .colab-df-convert:hover {\n",
              "      background-color: #E2EBFA;\n",
              "      box-shadow: 0px 1px 2px rgba(60, 64, 67, 0.3), 0px 1px 3px 1px rgba(60, 64, 67, 0.15);\n",
              "      fill: #174EA6;\n",
              "    }\n",
              "\n",
              "    [theme=dark] .colab-df-convert {\n",
              "      background-color: #3B4455;\n",
              "      fill: #D2E3FC;\n",
              "    }\n",
              "\n",
              "    [theme=dark] .colab-df-convert:hover {\n",
              "      background-color: #434B5C;\n",
              "      box-shadow: 0px 1px 3px 1px rgba(0, 0, 0, 0.15);\n",
              "      filter: drop-shadow(0px 1px 2px rgba(0, 0, 0, 0.3));\n",
              "      fill: #FFFFFF;\n",
              "    }\n",
              "  </style>\n",
              "\n",
              "      <script>\n",
              "        const buttonEl =\n",
              "          document.querySelector('#df-820d4db8-e026-49eb-9dee-7f54ee23a31c button.colab-df-convert');\n",
              "        buttonEl.style.display =\n",
              "          google.colab.kernel.accessAllowed ? 'block' : 'none';\n",
              "\n",
              "        async function convertToInteractive(key) {\n",
              "          const element = document.querySelector('#df-820d4db8-e026-49eb-9dee-7f54ee23a31c');\n",
              "          const dataTable =\n",
              "            await google.colab.kernel.invokeFunction('convertToInteractive',\n",
              "                                                     [key], {});\n",
              "          if (!dataTable) return;\n",
              "\n",
              "          const docLinkHtml = 'Like what you see? Visit the ' +\n",
              "            '<a target=\"_blank\" href=https://colab.research.google.com/notebooks/data_table.ipynb>data table notebook</a>'\n",
              "            + ' to learn more about interactive tables.';\n",
              "          element.innerHTML = '';\n",
              "          dataTable['output_type'] = 'display_data';\n",
              "          await google.colab.output.renderOutput(dataTable, element);\n",
              "          const docLink = document.createElement('div');\n",
              "          docLink.innerHTML = docLinkHtml;\n",
              "          element.appendChild(docLink);\n",
              "        }\n",
              "      </script>\n",
              "    </div>\n",
              "  </div>\n",
              "  "
            ]
          },
          "metadata": {},
          "execution_count": 479
        }
      ]
    },
    {
      "cell_type": "code",
      "source": [
        "def isInCourse(course):\n",
        "\n",
        "  try:\n",
        "    return coursesDic[course].loc[students.index[116]].count()>0\n",
        "  except:\n",
        "    return False\n",
        "\n",
        "isInCourse(\"Robotics\")\n",
        "studentMCourses=[]\n",
        "for course in coursesDic2.keys():\n",
        "  if isInCourse(course):\n",
        "    studentMCourses.append(course)\n"
      ],
      "metadata": {
        "id": "vjkJW3Ilvs3A"
      },
      "execution_count": 480,
      "outputs": []
    },
    {
      "cell_type": "code",
      "source": [],
      "metadata": {
        "id": "Cbhmyyo36KUZ"
      },
      "execution_count": 480,
      "outputs": []
    },
    {
      "cell_type": "code",
      "source": [
        "def MAD(x):\n",
        "  '''\n",
        "  calculates the median absolute deviation which is defined as median(|x_i - median(x)|\n",
        "  inputs: arraylike \n",
        "          X\n",
        "  outputs: numpy float\n",
        "          MAD\n",
        "  '''\n",
        "  return np.median(np.absolute(x - np.median(x)))\n"
      ],
      "metadata": {
        "id": "co-xdJpKnkma"
      },
      "execution_count": 481,
      "outputs": []
    },
    {
      "cell_type": "code",
      "source": [
        "\n",
        "'''\n",
        "def isIntersected(course1,course2):\n",
        "  \n",
        " # checks the intersection of students between two courses\n",
        " # inputs: str\n",
        " #         course 1 name , course 2 name\n",
        " # outputs: bool\n",
        " #          True if there is intersection and False otherwise\n",
        "  \n",
        "  df_merge = pd.merge(coursesDic[course1], coursesDic[course2], how='inner',left_index=True, right_index=True)\n",
        "  return not len(df_merge)==0\n",
        "\n",
        "'''\n",
        "\n"
      ],
      "metadata": {
        "id": "O-UO_4t_aFHi",
        "colab": {
          "base_uri": "https://localhost:8080/",
          "height": 70
        },
        "outputId": "cc2f5cbd-025b-4d95-fd4b-ec6d537bb9af"
      },
      "execution_count": 482,
      "outputs": [
        {
          "output_type": "execute_result",
          "data": {
            "text/plain": [
              "\"\\ndef isIntersected(course1,course2):\\n  \\n # checks the intersection of students between two courses\\n # inputs: str\\n #         course 1 name , course 2 name\\n # outputs: bool\\n #          True if there is intersection and False otherwise\\n  \\n  df_merge = pd.merge(coursesDic[course1], coursesDic[course2], how='inner',left_index=True, right_index=True)\\n  return not len(df_merge)==0\\n\\n\""
            ],
            "application/vnd.google.colaboratory.intrinsic+json": {
              "type": "string"
            }
          },
          "metadata": {},
          "execution_count": 482
        }
      ]
    },
    {
      "cell_type": "code",
      "source": [
        "def isTaken(course):\n",
        "  '''\n",
        "  checks whether the courses is already in the time table or not\n",
        "  inputs: str\n",
        "          course name\n",
        "  outputs: bool\n",
        "           True if exists in the table, False otherwise\n",
        "  '''\n",
        "  t1=any(timeTable[\"course1\"].astype(str).str.match(course))\n",
        "  t2=any(timeTable[\"course2\"].astype(str).str.match(course))\n",
        "  t3=any(timeTable[\"course3\"].astype(str).str.match(course))\n",
        "\n",
        "  return t1 or t2 or t3"
      ],
      "metadata": {
        "id": "5FBSqfvSSW_H"
      },
      "execution_count": 483,
      "outputs": []
    },
    {
      "cell_type": "code",
      "source": [
        "'''timeTablelist = {'course1':[], 'course2': []}\n",
        "timeTable = pd.DataFrame(data=timeTablelist)\n",
        "for i in range(10000):\n",
        "  randCourseI=random.choice(list(coursesDic.keys()))\n",
        "  randCourseJ=random.choice(list(coursesDic.keys()))\n",
        "\n",
        "  if(not isTaken(randCourseI) and  not isTaken(randCourseJ)):\n",
        "    if(isIntersected(randCourseI,randCourseJ)==False):\n",
        "      \n",
        "\n",
        "      dayNCourses = pd.DataFrame([[randCourseI,randCourseJ]],\n",
        "                                 columns=timeTable.columns)\n",
        "      timeTable=timeTable.append(dayNCourses,ignore_index=True)\n",
        "      coursesDic.pop(randCourseI)\n",
        "      coursesDic.pop(randCourseJ)\n",
        "'''"
      ],
      "metadata": {
        "id": "4TPKBpn8aN-q",
        "colab": {
          "base_uri": "https://localhost:8080/",
          "height": 105
        },
        "outputId": "7d843884-48f3-450a-92c8-5ab92c3601b1"
      },
      "execution_count": 484,
      "outputs": [
        {
          "output_type": "execute_result",
          "data": {
            "text/plain": [
              "\"timeTablelist = {'course1':[], 'course2': []}\\ntimeTable = pd.DataFrame(data=timeTablelist)\\nfor i in range(10000):\\n  randCourseI=random.choice(list(coursesDic.keys()))\\n  randCourseJ=random.choice(list(coursesDic.keys()))\\n\\n  if(not isTaken(randCourseI) and  not isTaken(randCourseJ)):\\n    if(isIntersected(randCourseI,randCourseJ)==False):\\n      \\n\\n      dayNCourses = pd.DataFrame([[randCourseI,randCourseJ]],\\n                                 columns=timeTable.columns)\\n      timeTable=timeTable.append(dayNCourses,ignore_index=True)\\n      coursesDic.pop(randCourseI)\\n      coursesDic.pop(randCourseJ)\\n\""
            ],
            "application/vnd.google.colaboratory.intrinsic+json": {
              "type": "string"
            }
          },
          "metadata": {},
          "execution_count": 484
        }
      ]
    },
    {
      "cell_type": "code",
      "source": [],
      "metadata": {
        "id": "YhpYRe3ldApR"
      },
      "execution_count": 484,
      "outputs": []
    },
    {
      "cell_type": "code",
      "source": [
        "\n",
        "\n",
        "def isIntersected(*args):\n",
        "  '''\n",
        "  checks the intersection of students between two courses\n",
        "  inputs: str\n",
        "          course 1 name , course 2 name\n",
        "  outputs: bool\n",
        "           True if there is intersection and False otherwise\n",
        "  '''\n",
        "\n",
        "  df_merge=pd.concat(list(args))\n",
        "  isduplicated=df_merge.duplicated()\n",
        "  return not len(df_merge[isduplicated])==0\n",
        "\n",
        "\n",
        "timeTableDic = {'course1':[], 'course2': [],'course3':[]}\n",
        "timeTable = pd.DataFrame(data=timeTableDic)\n",
        "\n",
        "for i in range(10000):\n",
        "  try:\n",
        "    randCourseI=random.choice(list(coursesDic.keys()))\n",
        "    randCourseJ=random.choice(list(coursesDic.keys()))\n",
        "    randCourseK=random.choice(list(coursesDic.keys()))\n",
        "  except:\n",
        "    None\n",
        "\n",
        "  if(not isTaken(randCourseI) and  not isTaken(randCourseJ)and  not isTaken(randCourseK)):\n",
        "    if(isIntersected(coursesDic2[randCourseI],coursesDic2[randCourseJ],coursesDic2[randCourseK])==False):\n",
        "      \n",
        "\n",
        "      dayNCourses = pd.DataFrame([[randCourseI,randCourseJ,randCourseK]],\n",
        "                                 columns=timeTable.columns)\n",
        "      timeTable=timeTable.append(dayNCourses,ignore_index=True)\n",
        "      coursesDic.pop(randCourseI)\n",
        "      coursesDic.pop(randCourseJ)\n",
        "      coursesDic.pop(randCourseK)\n",
        "\n",
        "\n",
        "\n",
        "for i in range(10000):\n",
        "  try:\n",
        "    randCourseI=random.choice(list(coursesDic.keys()))\n",
        "    randCourseJ=random.choice(list(coursesDic.keys()))\n",
        "  except:\n",
        "    None\n",
        "\n",
        "  if(not isTaken(randCourseI) and  not isTaken(randCourseJ)):\n",
        "    if(isIntersected(coursesDic2[randCourseI],coursesDic2[randCourseJ])==False):\n",
        "      \n",
        "\n",
        "      dayNCourses = pd.DataFrame([[randCourseI,randCourseJ,\"-\"]],\n",
        "                                 columns=timeTable.columns)\n",
        "      timeTable=timeTable.append(dayNCourses,ignore_index=True)\n",
        "      coursesDic.pop(randCourseI)\n",
        "      coursesDic.pop(randCourseJ)\n",
        "\n",
        "\n",
        "for i in range(10000):\n",
        "  try:\n",
        "    randCourseI=random.choice(list(coursesDic.keys()))\n",
        "  except:\n",
        "    None\n",
        "    \n",
        "\n",
        "  if(not isTaken(randCourseI)):\n",
        "\n",
        "\n",
        "    coursesDic.pop(randCourseI)\n",
        "\n",
        "    dayNCourses = pd.DataFrame([[randCourseI,\"-\",\"-\"]],\n",
        "                                columns=timeTable.columns)\n",
        "    timeTable=timeTable.append(dayNCourses,ignore_index=True)\n"
      ],
      "metadata": {
        "id": "L6yiVMn7QCwm"
      },
      "execution_count": 485,
      "outputs": []
    },
    {
      "cell_type": "code",
      "source": [
        "timeTable"
      ],
      "metadata": {
        "colab": {
          "base_uri": "https://localhost:8080/",
          "height": 520
        },
        "id": "zxsrQeL1onnj",
        "outputId": "08326271-88d6-4b50-b78d-45cea88fbd20"
      },
      "execution_count": 486,
      "outputs": [
        {
          "output_type": "execute_result",
          "data": {
            "text/plain": [
              "               course1                course2                     course3\n",
              "0         Electronics1  InudstrialElectronics  MechanicsAndThermodynamics\n",
              "1             Control1    SensorsAndActuators                  Mechanics1\n",
              "2          FundOfManuf          LinearAlgebra               Mechatronics1\n",
              "3           accounting               Robotics              Thermodynamics\n",
              "4   EngineeringDrawing        Microcontroller                       Calc3\n",
              "5                calc1                    PLC                       Logic\n",
              "6               Ethics                    AVS                     Physics\n",
              "7     CSAndProgramming         MachineDesign2                           -\n",
              "8               Signal       NumericalControl                           -\n",
              "9      FundOfMangement  ManufSystemAutomation                           -\n",
              "10    TechnicalWriting                      -                           -\n",
              "11           Vibration                      -                           -\n",
              "12               Fluid                      -                           -\n",
              "13      DigitalControl                      -                           -\n",
              "14              Fields                      -                           -"
            ],
            "text/html": [
              "\n",
              "  <div id=\"df-7bb10afc-9947-453c-be69-69f5d5a0b5a2\">\n",
              "    <div class=\"colab-df-container\">\n",
              "      <div>\n",
              "<style scoped>\n",
              "    .dataframe tbody tr th:only-of-type {\n",
              "        vertical-align: middle;\n",
              "    }\n",
              "\n",
              "    .dataframe tbody tr th {\n",
              "        vertical-align: top;\n",
              "    }\n",
              "\n",
              "    .dataframe thead th {\n",
              "        text-align: right;\n",
              "    }\n",
              "</style>\n",
              "<table border=\"1\" class=\"dataframe\">\n",
              "  <thead>\n",
              "    <tr style=\"text-align: right;\">\n",
              "      <th></th>\n",
              "      <th>course1</th>\n",
              "      <th>course2</th>\n",
              "      <th>course3</th>\n",
              "    </tr>\n",
              "  </thead>\n",
              "  <tbody>\n",
              "    <tr>\n",
              "      <th>0</th>\n",
              "      <td>Electronics1</td>\n",
              "      <td>InudstrialElectronics</td>\n",
              "      <td>MechanicsAndThermodynamics</td>\n",
              "    </tr>\n",
              "    <tr>\n",
              "      <th>1</th>\n",
              "      <td>Control1</td>\n",
              "      <td>SensorsAndActuators</td>\n",
              "      <td>Mechanics1</td>\n",
              "    </tr>\n",
              "    <tr>\n",
              "      <th>2</th>\n",
              "      <td>FundOfManuf</td>\n",
              "      <td>LinearAlgebra</td>\n",
              "      <td>Mechatronics1</td>\n",
              "    </tr>\n",
              "    <tr>\n",
              "      <th>3</th>\n",
              "      <td>accounting</td>\n",
              "      <td>Robotics</td>\n",
              "      <td>Thermodynamics</td>\n",
              "    </tr>\n",
              "    <tr>\n",
              "      <th>4</th>\n",
              "      <td>EngineeringDrawing</td>\n",
              "      <td>Microcontroller</td>\n",
              "      <td>Calc3</td>\n",
              "    </tr>\n",
              "    <tr>\n",
              "      <th>5</th>\n",
              "      <td>calc1</td>\n",
              "      <td>PLC</td>\n",
              "      <td>Logic</td>\n",
              "    </tr>\n",
              "    <tr>\n",
              "      <th>6</th>\n",
              "      <td>Ethics</td>\n",
              "      <td>AVS</td>\n",
              "      <td>Physics</td>\n",
              "    </tr>\n",
              "    <tr>\n",
              "      <th>7</th>\n",
              "      <td>CSAndProgramming</td>\n",
              "      <td>MachineDesign2</td>\n",
              "      <td>-</td>\n",
              "    </tr>\n",
              "    <tr>\n",
              "      <th>8</th>\n",
              "      <td>Signal</td>\n",
              "      <td>NumericalControl</td>\n",
              "      <td>-</td>\n",
              "    </tr>\n",
              "    <tr>\n",
              "      <th>9</th>\n",
              "      <td>FundOfMangement</td>\n",
              "      <td>ManufSystemAutomation</td>\n",
              "      <td>-</td>\n",
              "    </tr>\n",
              "    <tr>\n",
              "      <th>10</th>\n",
              "      <td>TechnicalWriting</td>\n",
              "      <td>-</td>\n",
              "      <td>-</td>\n",
              "    </tr>\n",
              "    <tr>\n",
              "      <th>11</th>\n",
              "      <td>Vibration</td>\n",
              "      <td>-</td>\n",
              "      <td>-</td>\n",
              "    </tr>\n",
              "    <tr>\n",
              "      <th>12</th>\n",
              "      <td>Fluid</td>\n",
              "      <td>-</td>\n",
              "      <td>-</td>\n",
              "    </tr>\n",
              "    <tr>\n",
              "      <th>13</th>\n",
              "      <td>DigitalControl</td>\n",
              "      <td>-</td>\n",
              "      <td>-</td>\n",
              "    </tr>\n",
              "    <tr>\n",
              "      <th>14</th>\n",
              "      <td>Fields</td>\n",
              "      <td>-</td>\n",
              "      <td>-</td>\n",
              "    </tr>\n",
              "  </tbody>\n",
              "</table>\n",
              "</div>\n",
              "      <button class=\"colab-df-convert\" onclick=\"convertToInteractive('df-7bb10afc-9947-453c-be69-69f5d5a0b5a2')\"\n",
              "              title=\"Convert this dataframe to an interactive table.\"\n",
              "              style=\"display:none;\">\n",
              "        \n",
              "  <svg xmlns=\"http://www.w3.org/2000/svg\" height=\"24px\"viewBox=\"0 0 24 24\"\n",
              "       width=\"24px\">\n",
              "    <path d=\"M0 0h24v24H0V0z\" fill=\"none\"/>\n",
              "    <path d=\"M18.56 5.44l.94 2.06.94-2.06 2.06-.94-2.06-.94-.94-2.06-.94 2.06-2.06.94zm-11 1L8.5 8.5l.94-2.06 2.06-.94-2.06-.94L8.5 2.5l-.94 2.06-2.06.94zm10 10l.94 2.06.94-2.06 2.06-.94-2.06-.94-.94-2.06-.94 2.06-2.06.94z\"/><path d=\"M17.41 7.96l-1.37-1.37c-.4-.4-.92-.59-1.43-.59-.52 0-1.04.2-1.43.59L10.3 9.45l-7.72 7.72c-.78.78-.78 2.05 0 2.83L4 21.41c.39.39.9.59 1.41.59.51 0 1.02-.2 1.41-.59l7.78-7.78 2.81-2.81c.8-.78.8-2.07 0-2.86zM5.41 20L4 18.59l7.72-7.72 1.47 1.35L5.41 20z\"/>\n",
              "  </svg>\n",
              "      </button>\n",
              "      \n",
              "  <style>\n",
              "    .colab-df-container {\n",
              "      display:flex;\n",
              "      flex-wrap:wrap;\n",
              "      gap: 12px;\n",
              "    }\n",
              "\n",
              "    .colab-df-convert {\n",
              "      background-color: #E8F0FE;\n",
              "      border: none;\n",
              "      border-radius: 50%;\n",
              "      cursor: pointer;\n",
              "      display: none;\n",
              "      fill: #1967D2;\n",
              "      height: 32px;\n",
              "      padding: 0 0 0 0;\n",
              "      width: 32px;\n",
              "    }\n",
              "\n",
              "    .colab-df-convert:hover {\n",
              "      background-color: #E2EBFA;\n",
              "      box-shadow: 0px 1px 2px rgba(60, 64, 67, 0.3), 0px 1px 3px 1px rgba(60, 64, 67, 0.15);\n",
              "      fill: #174EA6;\n",
              "    }\n",
              "\n",
              "    [theme=dark] .colab-df-convert {\n",
              "      background-color: #3B4455;\n",
              "      fill: #D2E3FC;\n",
              "    }\n",
              "\n",
              "    [theme=dark] .colab-df-convert:hover {\n",
              "      background-color: #434B5C;\n",
              "      box-shadow: 0px 1px 3px 1px rgba(0, 0, 0, 0.15);\n",
              "      filter: drop-shadow(0px 1px 2px rgba(0, 0, 0, 0.3));\n",
              "      fill: #FFFFFF;\n",
              "    }\n",
              "  </style>\n",
              "\n",
              "      <script>\n",
              "        const buttonEl =\n",
              "          document.querySelector('#df-7bb10afc-9947-453c-be69-69f5d5a0b5a2 button.colab-df-convert');\n",
              "        buttonEl.style.display =\n",
              "          google.colab.kernel.accessAllowed ? 'block' : 'none';\n",
              "\n",
              "        async function convertToInteractive(key) {\n",
              "          const element = document.querySelector('#df-7bb10afc-9947-453c-be69-69f5d5a0b5a2');\n",
              "          const dataTable =\n",
              "            await google.colab.kernel.invokeFunction('convertToInteractive',\n",
              "                                                     [key], {});\n",
              "          if (!dataTable) return;\n",
              "\n",
              "          const docLinkHtml = 'Like what you see? Visit the ' +\n",
              "            '<a target=\"_blank\" href=https://colab.research.google.com/notebooks/data_table.ipynb>data table notebook</a>'\n",
              "            + ' to learn more about interactive tables.';\n",
              "          element.innerHTML = '';\n",
              "          dataTable['output_type'] = 'display_data';\n",
              "          await google.colab.output.renderOutput(dataTable, element);\n",
              "          const docLink = document.createElement('div');\n",
              "          docLink.innerHTML = docLinkHtml;\n",
              "          element.appendChild(docLink);\n",
              "        }\n",
              "      </script>\n",
              "    </div>\n",
              "  </div>\n",
              "  "
            ]
          },
          "metadata": {},
          "execution_count": 486
        }
      ]
    },
    {
      "cell_type": "code",
      "source": [],
      "metadata": {
        "id": "LIG8FSpxqVf9"
      },
      "execution_count": 486,
      "outputs": []
    },
    {
      "cell_type": "code",
      "source": [],
      "metadata": {
        "id": "Zt1zC8yDBSjq"
      },
      "execution_count": 486,
      "outputs": []
    },
    {
      "cell_type": "code",
      "source": [],
      "metadata": {
        "id": "SlUhiiAjBXSC"
      },
      "execution_count": 486,
      "outputs": []
    },
    {
      "cell_type": "code",
      "source": [
        "coursesDic.keys()"
      ],
      "metadata": {
        "colab": {
          "base_uri": "https://localhost:8080/"
        },
        "id": "txAzH2CW_tyq",
        "outputId": "444f9ba7-ce0e-42fb-9e14-a365459a93bd"
      },
      "execution_count": 487,
      "outputs": [
        {
          "output_type": "execute_result",
          "data": {
            "text/plain": [
              "dict_keys([])"
            ]
          },
          "metadata": {},
          "execution_count": 487
        }
      ]
    },
    {
      "cell_type": "code",
      "source": [
        "#shuffling\n",
        "timeTable=timeTable.sample(frac = 1,ignore_index=True)\n",
        "timeTable"
      ],
      "metadata": {
        "colab": {
          "base_uri": "https://localhost:8080/",
          "height": 520
        },
        "id": "zP-r52JNdG2k",
        "outputId": "e8a265c5-ae28-40aa-b1d7-51a80b7c2ae3"
      },
      "execution_count": 488,
      "outputs": [
        {
          "output_type": "execute_result",
          "data": {
            "text/plain": [
              "               course1                course2                     course3\n",
              "0           accounting               Robotics              Thermodynamics\n",
              "1               Fields                      -                           -\n",
              "2                calc1                    PLC                       Logic\n",
              "3             Control1    SensorsAndActuators                  Mechanics1\n",
              "4          FundOfManuf          LinearAlgebra               Mechatronics1\n",
              "5            Vibration                      -                           -\n",
              "6                Fluid                      -                           -\n",
              "7      FundOfMangement  ManufSystemAutomation                           -\n",
              "8     CSAndProgramming         MachineDesign2                           -\n",
              "9               Signal       NumericalControl                           -\n",
              "10        Electronics1  InudstrialElectronics  MechanicsAndThermodynamics\n",
              "11    TechnicalWriting                      -                           -\n",
              "12      DigitalControl                      -                           -\n",
              "13              Ethics                    AVS                     Physics\n",
              "14  EngineeringDrawing        Microcontroller                       Calc3"
            ],
            "text/html": [
              "\n",
              "  <div id=\"df-0332a03c-d5bb-4ceb-b27f-fd3c8ea0bb75\">\n",
              "    <div class=\"colab-df-container\">\n",
              "      <div>\n",
              "<style scoped>\n",
              "    .dataframe tbody tr th:only-of-type {\n",
              "        vertical-align: middle;\n",
              "    }\n",
              "\n",
              "    .dataframe tbody tr th {\n",
              "        vertical-align: top;\n",
              "    }\n",
              "\n",
              "    .dataframe thead th {\n",
              "        text-align: right;\n",
              "    }\n",
              "</style>\n",
              "<table border=\"1\" class=\"dataframe\">\n",
              "  <thead>\n",
              "    <tr style=\"text-align: right;\">\n",
              "      <th></th>\n",
              "      <th>course1</th>\n",
              "      <th>course2</th>\n",
              "      <th>course3</th>\n",
              "    </tr>\n",
              "  </thead>\n",
              "  <tbody>\n",
              "    <tr>\n",
              "      <th>0</th>\n",
              "      <td>accounting</td>\n",
              "      <td>Robotics</td>\n",
              "      <td>Thermodynamics</td>\n",
              "    </tr>\n",
              "    <tr>\n",
              "      <th>1</th>\n",
              "      <td>Fields</td>\n",
              "      <td>-</td>\n",
              "      <td>-</td>\n",
              "    </tr>\n",
              "    <tr>\n",
              "      <th>2</th>\n",
              "      <td>calc1</td>\n",
              "      <td>PLC</td>\n",
              "      <td>Logic</td>\n",
              "    </tr>\n",
              "    <tr>\n",
              "      <th>3</th>\n",
              "      <td>Control1</td>\n",
              "      <td>SensorsAndActuators</td>\n",
              "      <td>Mechanics1</td>\n",
              "    </tr>\n",
              "    <tr>\n",
              "      <th>4</th>\n",
              "      <td>FundOfManuf</td>\n",
              "      <td>LinearAlgebra</td>\n",
              "      <td>Mechatronics1</td>\n",
              "    </tr>\n",
              "    <tr>\n",
              "      <th>5</th>\n",
              "      <td>Vibration</td>\n",
              "      <td>-</td>\n",
              "      <td>-</td>\n",
              "    </tr>\n",
              "    <tr>\n",
              "      <th>6</th>\n",
              "      <td>Fluid</td>\n",
              "      <td>-</td>\n",
              "      <td>-</td>\n",
              "    </tr>\n",
              "    <tr>\n",
              "      <th>7</th>\n",
              "      <td>FundOfMangement</td>\n",
              "      <td>ManufSystemAutomation</td>\n",
              "      <td>-</td>\n",
              "    </tr>\n",
              "    <tr>\n",
              "      <th>8</th>\n",
              "      <td>CSAndProgramming</td>\n",
              "      <td>MachineDesign2</td>\n",
              "      <td>-</td>\n",
              "    </tr>\n",
              "    <tr>\n",
              "      <th>9</th>\n",
              "      <td>Signal</td>\n",
              "      <td>NumericalControl</td>\n",
              "      <td>-</td>\n",
              "    </tr>\n",
              "    <tr>\n",
              "      <th>10</th>\n",
              "      <td>Electronics1</td>\n",
              "      <td>InudstrialElectronics</td>\n",
              "      <td>MechanicsAndThermodynamics</td>\n",
              "    </tr>\n",
              "    <tr>\n",
              "      <th>11</th>\n",
              "      <td>TechnicalWriting</td>\n",
              "      <td>-</td>\n",
              "      <td>-</td>\n",
              "    </tr>\n",
              "    <tr>\n",
              "      <th>12</th>\n",
              "      <td>DigitalControl</td>\n",
              "      <td>-</td>\n",
              "      <td>-</td>\n",
              "    </tr>\n",
              "    <tr>\n",
              "      <th>13</th>\n",
              "      <td>Ethics</td>\n",
              "      <td>AVS</td>\n",
              "      <td>Physics</td>\n",
              "    </tr>\n",
              "    <tr>\n",
              "      <th>14</th>\n",
              "      <td>EngineeringDrawing</td>\n",
              "      <td>Microcontroller</td>\n",
              "      <td>Calc3</td>\n",
              "    </tr>\n",
              "  </tbody>\n",
              "</table>\n",
              "</div>\n",
              "      <button class=\"colab-df-convert\" onclick=\"convertToInteractive('df-0332a03c-d5bb-4ceb-b27f-fd3c8ea0bb75')\"\n",
              "              title=\"Convert this dataframe to an interactive table.\"\n",
              "              style=\"display:none;\">\n",
              "        \n",
              "  <svg xmlns=\"http://www.w3.org/2000/svg\" height=\"24px\"viewBox=\"0 0 24 24\"\n",
              "       width=\"24px\">\n",
              "    <path d=\"M0 0h24v24H0V0z\" fill=\"none\"/>\n",
              "    <path d=\"M18.56 5.44l.94 2.06.94-2.06 2.06-.94-2.06-.94-.94-2.06-.94 2.06-2.06.94zm-11 1L8.5 8.5l.94-2.06 2.06-.94-2.06-.94L8.5 2.5l-.94 2.06-2.06.94zm10 10l.94 2.06.94-2.06 2.06-.94-2.06-.94-.94-2.06-.94 2.06-2.06.94z\"/><path d=\"M17.41 7.96l-1.37-1.37c-.4-.4-.92-.59-1.43-.59-.52 0-1.04.2-1.43.59L10.3 9.45l-7.72 7.72c-.78.78-.78 2.05 0 2.83L4 21.41c.39.39.9.59 1.41.59.51 0 1.02-.2 1.41-.59l7.78-7.78 2.81-2.81c.8-.78.8-2.07 0-2.86zM5.41 20L4 18.59l7.72-7.72 1.47 1.35L5.41 20z\"/>\n",
              "  </svg>\n",
              "      </button>\n",
              "      \n",
              "  <style>\n",
              "    .colab-df-container {\n",
              "      display:flex;\n",
              "      flex-wrap:wrap;\n",
              "      gap: 12px;\n",
              "    }\n",
              "\n",
              "    .colab-df-convert {\n",
              "      background-color: #E8F0FE;\n",
              "      border: none;\n",
              "      border-radius: 50%;\n",
              "      cursor: pointer;\n",
              "      display: none;\n",
              "      fill: #1967D2;\n",
              "      height: 32px;\n",
              "      padding: 0 0 0 0;\n",
              "      width: 32px;\n",
              "    }\n",
              "\n",
              "    .colab-df-convert:hover {\n",
              "      background-color: #E2EBFA;\n",
              "      box-shadow: 0px 1px 2px rgba(60, 64, 67, 0.3), 0px 1px 3px 1px rgba(60, 64, 67, 0.15);\n",
              "      fill: #174EA6;\n",
              "    }\n",
              "\n",
              "    [theme=dark] .colab-df-convert {\n",
              "      background-color: #3B4455;\n",
              "      fill: #D2E3FC;\n",
              "    }\n",
              "\n",
              "    [theme=dark] .colab-df-convert:hover {\n",
              "      background-color: #434B5C;\n",
              "      box-shadow: 0px 1px 3px 1px rgba(0, 0, 0, 0.15);\n",
              "      filter: drop-shadow(0px 1px 2px rgba(0, 0, 0, 0.3));\n",
              "      fill: #FFFFFF;\n",
              "    }\n",
              "  </style>\n",
              "\n",
              "      <script>\n",
              "        const buttonEl =\n",
              "          document.querySelector('#df-0332a03c-d5bb-4ceb-b27f-fd3c8ea0bb75 button.colab-df-convert');\n",
              "        buttonEl.style.display =\n",
              "          google.colab.kernel.accessAllowed ? 'block' : 'none';\n",
              "\n",
              "        async function convertToInteractive(key) {\n",
              "          const element = document.querySelector('#df-0332a03c-d5bb-4ceb-b27f-fd3c8ea0bb75');\n",
              "          const dataTable =\n",
              "            await google.colab.kernel.invokeFunction('convertToInteractive',\n",
              "                                                     [key], {});\n",
              "          if (!dataTable) return;\n",
              "\n",
              "          const docLinkHtml = 'Like what you see? Visit the ' +\n",
              "            '<a target=\"_blank\" href=https://colab.research.google.com/notebooks/data_table.ipynb>data table notebook</a>'\n",
              "            + ' to learn more about interactive tables.';\n",
              "          element.innerHTML = '';\n",
              "          dataTable['output_type'] = 'display_data';\n",
              "          await google.colab.output.renderOutput(dataTable, element);\n",
              "          const docLink = document.createElement('div');\n",
              "          docLink.innerHTML = docLinkHtml;\n",
              "          element.appendChild(docLink);\n",
              "        }\n",
              "      </script>\n",
              "    </div>\n",
              "  </div>\n",
              "  "
            ]
          },
          "metadata": {},
          "execution_count": 488
        }
      ]
    },
    {
      "cell_type": "code",
      "source": [
        "studentMTT=timeTable[timeTable[\"course1\"].astype(str).str.contains(\"|\".join(studentMCourses), regex=True) | timeTable[\"course2\"].astype(str).str.contains(\"|\".join(studentMCourses), regex=True) ]\n",
        "index=studentMTT.index\n",
        "display(studentMTT)\n"
      ],
      "metadata": {
        "colab": {
          "base_uri": "https://localhost:8080/",
          "height": 238
        },
        "id": "Q0Bfisanu5_3",
        "outputId": "745f4de0-9138-41f9-9f8c-bfc135363585"
      },
      "execution_count": 489,
      "outputs": [
        {
          "output_type": "display_data",
          "data": {
            "text/plain": [
              "            course1                course2         course3\n",
              "0        accounting               Robotics  Thermodynamics\n",
              "2             calc1                    PLC           Logic\n",
              "7   FundOfMangement  ManufSystemAutomation               -\n",
              "9            Signal       NumericalControl               -\n",
              "12   DigitalControl                      -               -\n",
              "13           Ethics                    AVS         Physics"
            ],
            "text/html": [
              "\n",
              "  <div id=\"df-348dd74b-861e-4f50-bd80-e26f543f61b5\">\n",
              "    <div class=\"colab-df-container\">\n",
              "      <div>\n",
              "<style scoped>\n",
              "    .dataframe tbody tr th:only-of-type {\n",
              "        vertical-align: middle;\n",
              "    }\n",
              "\n",
              "    .dataframe tbody tr th {\n",
              "        vertical-align: top;\n",
              "    }\n",
              "\n",
              "    .dataframe thead th {\n",
              "        text-align: right;\n",
              "    }\n",
              "</style>\n",
              "<table border=\"1\" class=\"dataframe\">\n",
              "  <thead>\n",
              "    <tr style=\"text-align: right;\">\n",
              "      <th></th>\n",
              "      <th>course1</th>\n",
              "      <th>course2</th>\n",
              "      <th>course3</th>\n",
              "    </tr>\n",
              "  </thead>\n",
              "  <tbody>\n",
              "    <tr>\n",
              "      <th>0</th>\n",
              "      <td>accounting</td>\n",
              "      <td>Robotics</td>\n",
              "      <td>Thermodynamics</td>\n",
              "    </tr>\n",
              "    <tr>\n",
              "      <th>2</th>\n",
              "      <td>calc1</td>\n",
              "      <td>PLC</td>\n",
              "      <td>Logic</td>\n",
              "    </tr>\n",
              "    <tr>\n",
              "      <th>7</th>\n",
              "      <td>FundOfMangement</td>\n",
              "      <td>ManufSystemAutomation</td>\n",
              "      <td>-</td>\n",
              "    </tr>\n",
              "    <tr>\n",
              "      <th>9</th>\n",
              "      <td>Signal</td>\n",
              "      <td>NumericalControl</td>\n",
              "      <td>-</td>\n",
              "    </tr>\n",
              "    <tr>\n",
              "      <th>12</th>\n",
              "      <td>DigitalControl</td>\n",
              "      <td>-</td>\n",
              "      <td>-</td>\n",
              "    </tr>\n",
              "    <tr>\n",
              "      <th>13</th>\n",
              "      <td>Ethics</td>\n",
              "      <td>AVS</td>\n",
              "      <td>Physics</td>\n",
              "    </tr>\n",
              "  </tbody>\n",
              "</table>\n",
              "</div>\n",
              "      <button class=\"colab-df-convert\" onclick=\"convertToInteractive('df-348dd74b-861e-4f50-bd80-e26f543f61b5')\"\n",
              "              title=\"Convert this dataframe to an interactive table.\"\n",
              "              style=\"display:none;\">\n",
              "        \n",
              "  <svg xmlns=\"http://www.w3.org/2000/svg\" height=\"24px\"viewBox=\"0 0 24 24\"\n",
              "       width=\"24px\">\n",
              "    <path d=\"M0 0h24v24H0V0z\" fill=\"none\"/>\n",
              "    <path d=\"M18.56 5.44l.94 2.06.94-2.06 2.06-.94-2.06-.94-.94-2.06-.94 2.06-2.06.94zm-11 1L8.5 8.5l.94-2.06 2.06-.94-2.06-.94L8.5 2.5l-.94 2.06-2.06.94zm10 10l.94 2.06.94-2.06 2.06-.94-2.06-.94-.94-2.06-.94 2.06-2.06.94z\"/><path d=\"M17.41 7.96l-1.37-1.37c-.4-.4-.92-.59-1.43-.59-.52 0-1.04.2-1.43.59L10.3 9.45l-7.72 7.72c-.78.78-.78 2.05 0 2.83L4 21.41c.39.39.9.59 1.41.59.51 0 1.02-.2 1.41-.59l7.78-7.78 2.81-2.81c.8-.78.8-2.07 0-2.86zM5.41 20L4 18.59l7.72-7.72 1.47 1.35L5.41 20z\"/>\n",
              "  </svg>\n",
              "      </button>\n",
              "      \n",
              "  <style>\n",
              "    .colab-df-container {\n",
              "      display:flex;\n",
              "      flex-wrap:wrap;\n",
              "      gap: 12px;\n",
              "    }\n",
              "\n",
              "    .colab-df-convert {\n",
              "      background-color: #E8F0FE;\n",
              "      border: none;\n",
              "      border-radius: 50%;\n",
              "      cursor: pointer;\n",
              "      display: none;\n",
              "      fill: #1967D2;\n",
              "      height: 32px;\n",
              "      padding: 0 0 0 0;\n",
              "      width: 32px;\n",
              "    }\n",
              "\n",
              "    .colab-df-convert:hover {\n",
              "      background-color: #E2EBFA;\n",
              "      box-shadow: 0px 1px 2px rgba(60, 64, 67, 0.3), 0px 1px 3px 1px rgba(60, 64, 67, 0.15);\n",
              "      fill: #174EA6;\n",
              "    }\n",
              "\n",
              "    [theme=dark] .colab-df-convert {\n",
              "      background-color: #3B4455;\n",
              "      fill: #D2E3FC;\n",
              "    }\n",
              "\n",
              "    [theme=dark] .colab-df-convert:hover {\n",
              "      background-color: #434B5C;\n",
              "      box-shadow: 0px 1px 3px 1px rgba(0, 0, 0, 0.15);\n",
              "      filter: drop-shadow(0px 1px 2px rgba(0, 0, 0, 0.3));\n",
              "      fill: #FFFFFF;\n",
              "    }\n",
              "  </style>\n",
              "\n",
              "      <script>\n",
              "        const buttonEl =\n",
              "          document.querySelector('#df-348dd74b-861e-4f50-bd80-e26f543f61b5 button.colab-df-convert');\n",
              "        buttonEl.style.display =\n",
              "          google.colab.kernel.accessAllowed ? 'block' : 'none';\n",
              "\n",
              "        async function convertToInteractive(key) {\n",
              "          const element = document.querySelector('#df-348dd74b-861e-4f50-bd80-e26f543f61b5');\n",
              "          const dataTable =\n",
              "            await google.colab.kernel.invokeFunction('convertToInteractive',\n",
              "                                                     [key], {});\n",
              "          if (!dataTable) return;\n",
              "\n",
              "          const docLinkHtml = 'Like what you see? Visit the ' +\n",
              "            '<a target=\"_blank\" href=https://colab.research.google.com/notebooks/data_table.ipynb>data table notebook</a>'\n",
              "            + ' to learn more about interactive tables.';\n",
              "          element.innerHTML = '';\n",
              "          dataTable['output_type'] = 'display_data';\n",
              "          await google.colab.output.renderOutput(dataTable, element);\n",
              "          const docLink = document.createElement('div');\n",
              "          docLink.innerHTML = docLinkHtml;\n",
              "          element.appendChild(docLink);\n",
              "        }\n",
              "      </script>\n",
              "    </div>\n",
              "  </div>\n",
              "  "
            ]
          },
          "metadata": {}
        }
      ]
    },
    {
      "cell_type": "code",
      "source": [
        "print(f\"index MAD: {MAD(index)}\")\n"
      ],
      "metadata": {
        "colab": {
          "base_uri": "https://localhost:8080/"
        },
        "id": "JwWu2BAOS2gJ",
        "outputId": "7d40bb67-459d-46fe-9d15-67c3e0a0e55c"
      },
      "execution_count": 490,
      "outputs": [
        {
          "output_type": "stream",
          "name": "stdout",
          "text": [
            "index MAD: 4.5\n"
          ]
        }
      ]
    },
    {
      "cell_type": "code",
      "source": [
        "print(f\"left out courses are:\\n{list(coursesDic.keys())}\")"
      ],
      "metadata": {
        "colab": {
          "base_uri": "https://localhost:8080/"
        },
        "id": "_GLVCJ8UoEYj",
        "outputId": "502ebd84-c7b1-4d28-a98b-999a0c4c7ba5"
      },
      "execution_count": 491,
      "outputs": [
        {
          "output_type": "stream",
          "name": "stdout",
          "text": [
            "left out courses are:\n",
            "[]\n"
          ]
        }
      ]
    },
    {
      "cell_type": "code",
      "source": [
        "MAD([0,5,1,0,1]*12)"
      ],
      "metadata": {
        "id": "p3dgdmSNvVKM",
        "outputId": "c6b910d3-a1a1-4e8b-e359-2dd96e092b01",
        "colab": {
          "base_uri": "https://localhost:8080/"
        }
      },
      "execution_count": 492,
      "outputs": [
        {
          "output_type": "execute_result",
          "data": {
            "text/plain": [
              "1.0"
            ]
          },
          "metadata": {},
          "execution_count": 492
        }
      ]
    },
    {
      "cell_type": "code",
      "source": [],
      "metadata": {
        "id": "XtGsq8Qmq8SN"
      },
      "execution_count": 492,
      "outputs": []
    },
    {
      "cell_type": "code",
      "source": [
        "MAD([1,3,4,30])"
      ],
      "metadata": {
        "id": "mrxk7i6MS-G4",
        "colab": {
          "base_uri": "https://localhost:8080/"
        },
        "outputId": "713952b3-cf39-4f7c-a3d2-25663ab91651"
      },
      "execution_count": 493,
      "outputs": [
        {
          "output_type": "execute_result",
          "data": {
            "text/plain": [
              "1.5"
            ]
          },
          "metadata": {},
          "execution_count": 493
        }
      ]
    },
    {
      "cell_type": "code",
      "source": [
        "MAD([3,6,9,12])"
      ],
      "metadata": {
        "id": "CDjwunkuYQKU",
        "colab": {
          "base_uri": "https://localhost:8080/"
        },
        "outputId": "3298c24e-4515-4061-dd78-2fbbb6336dd1"
      },
      "execution_count": 494,
      "outputs": [
        {
          "output_type": "execute_result",
          "data": {
            "text/plain": [
              "3.0"
            ]
          },
          "metadata": {},
          "execution_count": 494
        }
      ]
    },
    {
      "cell_type": "code",
      "source": [],
      "metadata": {
        "id": "0NepgcT9UxEH"
      },
      "execution_count": 494,
      "outputs": []
    },
    {
      "cell_type": "code",
      "source": [],
      "metadata": {
        "id": "6KlyegeavTSu"
      },
      "execution_count": 494,
      "outputs": []
    }
  ]
}