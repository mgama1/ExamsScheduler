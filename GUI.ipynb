{
 "cells": [
  {
   "cell_type": "code",
   "execution_count": 6,
   "id": "731337b5",
   "metadata": {},
   "outputs": [
    {
     "ename": "SystemExit",
     "evalue": "0",
     "output_type": "error",
     "traceback": [
      "An exception has occurred, use %tb to see the full traceback.\n",
      "\u001b[0;31mSystemExit\u001b[0m\u001b[0;31m:\u001b[0m 0\n"
     ]
    }
   ],
   "source": [
    "import sys\n",
    "from PyQt5.QtWidgets import QApplication, QWidget, QInputDialog, QLineEdit, QFileDialog\n",
    "from PyQt5.QtGui import QIcon\n",
    "\n",
    "class App(QWidget):\n",
    "\n",
    "    def __init__(self):\n",
    "        super().__init__()\n",
    "        self.title = 'PyQt5 file dialogs - pythonspot.com'\n",
    "        self.left = 10\n",
    "        self.top = 10\n",
    "        self.width = 640\n",
    "        self.height = 480\n",
    "        self.initUI()\n",
    "    \n",
    "    def initUI(self):\n",
    "        self.setWindowTitle(self.title)\n",
    "        self.setGeometry(self.left, self.top, self.width, self.height)\n",
    "        \n",
    "        self.openFileNameDialog()\n",
    "        self.openFileNamesDialog()\n",
    "        self.saveFileDialog()\n",
    "        \n",
    "        self.show()\n",
    "    \n",
    "    def openFileNameDialog(self):\n",
    "        options = QFileDialog.Options()\n",
    "        options |= QFileDialog.DontUseNativeDialog\n",
    "        fileName, _ = QFileDialog.getOpenFileName(self,\"QFileDialog.getOpenFileName()\", \"\",\"All Files (*);;Python Files (*.py)\", options=options)\n",
    "        if fileName:\n",
    "            print(fileName)\n",
    "    \n",
    "    def openFileNamesDialog(self):\n",
    "        options = QFileDialog.Options()\n",
    "        options |= QFileDialog.DontUseNativeDialog\n",
    "        files, _ = QFileDialog.getOpenFileNames(self,\"QFileDialog.getOpenFileNames()\", \"\",\"All Files (*);;Python Files (*.py)\", options=options)\n",
    "        if files:\n",
    "            print(files)\n",
    "    \n",
    "    def saveFileDialog(self):\n",
    "        options = QFileDialog.Options()\n",
    "        options |= QFileDialog.DontUseNativeDialog\n",
    "        fileName, _ = QFileDialog.getSaveFileName(self,\"QFileDialog.getSaveFileName()\",\"\",\"All Files (*);;Text Files (*.txt)\", options=options)\n",
    "        if fileName:\n",
    "            print(fileName)\n",
    "\n",
    "if __name__ == '__main__':\n",
    "    app = QApplication(sys.argv)\n",
    "    ex = App()\n",
    "    sys.exit(app.exec_())"
   ]
  },
  {
   "cell_type": "code",
   "execution_count": 2,
   "id": "ee052cd2",
   "metadata": {},
   "outputs": [
    {
     "name": "stderr",
     "output_type": "stream",
     "text": [
      "Could not parse application stylesheet\n"
     ]
    },
    {
     "ename": "SystemExit",
     "evalue": "0",
     "output_type": "error",
     "traceback": [
      "An exception has occurred, use %tb to see the full traceback.\n",
      "\u001b[0;31mSystemExit\u001b[0m\u001b[0;31m:\u001b[0m 0\n"
     ]
    },
    {
     "name": "stderr",
     "output_type": "stream",
     "text": [
      "/home/mgama1/anaconda3/lib/python3.9/site-packages/IPython/core/interactiveshell.py:3441: UserWarning: To exit: use 'exit', 'quit', or Ctrl-D.\n",
      "  warn(\"To exit: use 'exit', 'quit', or Ctrl-D.\", stacklevel=1)\n"
     ]
    }
   ],
   "source": [
    "#table\n",
    "from PyQt5.QtWidgets import QMainWindow, QApplication, QWidget, QAction, QTableWidget,QTableWidgetItem,QVBoxLayout\n",
    "from PyQt5.QtGui import QIcon\n",
    "from PyQt5.QtCore import pyqtSlot\n",
    "import sys\n",
    "import pandas as pd\n",
    "data = pd.read_csv(\"t.csv\")\n",
    " \n",
    "class TableView(QTableWidget):\n",
    "    def __init__(self, data, *args):\n",
    "        QTableWidget.__init__(self, *args)\n",
    "        self.data = data\n",
    "        self.setData()\n",
    "        self.resizeColumnsToContents()\n",
    "        self.resizeRowsToContents()\n",
    " \n",
    "    def setData(self): \n",
    "        horHeaders = []\n",
    "        for n, key in enumerate(sorted(self.data.keys())):\n",
    "            horHeaders.append(key)\n",
    "            for m, item in enumerate(self.data[key]):\n",
    "                newitem = QTableWidgetItem(item)\n",
    "                self.setItem(m, n, newitem)\n",
    "        self.setHorizontalHeaderLabels(horHeaders)\n",
    " \n",
    "def main(args):\n",
    "    app = QApplication(args)\n",
    "    app.setStyleSheet(\"background-color: yellow;\")\n",
    "\n",
    "    table = TableView(data, data.shape[0], data.shape[1])\n",
    "    table.show()\n",
    "    sys.exit(app.exec_())\n",
    " \n",
    "if __name__==\"__main__\":\n",
    "    main(sys.argv)"
   ]
  },
  {
   "cell_type": "code",
   "execution_count": null,
   "id": "33cb550c",
   "metadata": {},
   "outputs": [],
   "source": []
  },
  {
   "cell_type": "code",
   "execution_count": 8,
   "id": "75fcaac6",
   "metadata": {},
   "outputs": [
    {
     "name": "stdout",
     "output_type": "stream",
     "text": [
      "choosed\n"
     ]
    },
    {
     "ename": "SystemExit",
     "evalue": "0",
     "output_type": "error",
     "traceback": [
      "An exception has occurred, use %tb to see the full traceback.\n",
      "\u001b[0;31mSystemExit\u001b[0m\u001b[0;31m:\u001b[0m 0\n"
     ]
    }
   ],
   "source": [
    "import sys\n",
    "from PyQt5.QtCore import *\n",
    "from PyQt5.QtGui import *\n",
    "from PyQt5.QtWidgets import *\n",
    "\n",
    "def window():\n",
    "\n",
    "    app = QApplication(sys.argv)\n",
    "    w = QWidget()\n",
    "    label1 = QLabel(w)\n",
    "    label1.setText(\"choose File\")\n",
    "    label1.move(150,0)\n",
    "    \n",
    "\n",
    "    w.setGeometry(512,512,512,512)\n",
    "    w.setWindowTitle(\"PyQt5\")\n",
    "    w.setStyleSheet(\"background-color: #313131;\")\n",
    "    \n",
    "    browseButton=QPushButton(w)\n",
    "    browseButton.setText(\"Browse\")\n",
    "    browseButton.move(250,0)\n",
    "    browseButton.clicked.connect(browseButtonClicked)\n",
    "\n",
    "\n",
    "    w.show()\n",
    "    sys.exit(app.exec_())\n",
    "    \n",
    "\n",
    "\n",
    "def browseButtonClicked():\n",
    "    print(\"choosed\")\n",
    "\n",
    "if __name__ == '__main__':\n",
    "    window()"
   ]
  },
  {
   "cell_type": "code",
   "execution_count": 3,
   "id": "47b04b31",
   "metadata": {},
   "outputs": [
    {
     "ename": "SystemExit",
     "evalue": "0",
     "output_type": "error",
     "traceback": [
      "An exception has occurred, use %tb to see the full traceback.\n",
      "\u001b[0;31mSystemExit\u001b[0m\u001b[0;31m:\u001b[0m 0\n"
     ]
    }
   ],
   "source": [
    "import sys\n",
    "from PyQt5.QtCore import *\n",
    "from PyQt5.QtGui import *\n",
    "from PyQt5.QtWidgets import *\n",
    "def window():\n",
    "   app = QApplication(sys.argv)\n",
    "   win = QWidget() \n",
    "\n",
    "   l1 = QLabel()\n",
    "   l2 = QLabel()\n",
    "   l3 = QLabel()\n",
    "   l4 = QLabel()\n",
    "\n",
    "   l1.setText(\"Hello World\")\n",
    "   l4.setText(\"TutorialsPoint\")\n",
    "   l2.setText(\"welcome to Python GUI Programming\")\n",
    "\n",
    "   l1.setAlignment(Qt.AlignCenter)\n",
    "   l3.setAlignment(Qt.AlignCenter)\n",
    "   l4.setAlignment(Qt.AlignRight)\n",
    "   l3.setPixmap(QPixmap(\"mepixled.jpg\"))\n",
    "\n",
    "   vbox = QVBoxLayout()\n",
    "   vbox.addWidget(l1)\n",
    "   vbox.addStretch()\n",
    "   vbox.addWidget(l2)\n",
    "   vbox.addStretch()\n",
    "   vbox.addWidget(l3)\n",
    "   vbox.addStretch()\n",
    "   vbox.addWidget(l4)\n",
    "\n",
    "   l1.setOpenExternalLinks(True)\n",
    "   l4.linkActivated.connect(clicked)\n",
    "   l2.linkHovered.connect(hovered)\n",
    "   l1.setTextInteractionFlags(Qt.TextSelectableByMouse)\n",
    "   win.setLayout(vbox)\n",
    "\n",
    "   win.setWindowTitle(\"QLabel Demo\")\n",
    "   win.show()\n",
    "   sys.exit(app.exec_())\n",
    "\n",
    "def hovered():\n",
    "   print(\"hovering\")\n",
    "def clicked():\n",
    "   print(\"clicked\")\n",
    "\n",
    "if __name__ == '__main__':\n",
    "   window()"
   ]
  },
  {
   "cell_type": "code",
   "execution_count": 21,
   "id": "4d3f2e18",
   "metadata": {},
   "outputs": [
    {
     "data": {
      "text/html": [
       "<div>\n",
       "<style scoped>\n",
       "    .dataframe tbody tr th:only-of-type {\n",
       "        vertical-align: middle;\n",
       "    }\n",
       "\n",
       "    .dataframe tbody tr th {\n",
       "        vertical-align: top;\n",
       "    }\n",
       "\n",
       "    .dataframe thead th {\n",
       "        text-align: right;\n",
       "    }\n",
       "</style>\n",
       "<table border=\"1\" class=\"dataframe\">\n",
       "  <thead>\n",
       "    <tr style=\"text-align: right;\">\n",
       "      <th></th>\n",
       "      <th>Unnamed: 0</th>\n",
       "      <th>course1</th>\n",
       "      <th>course2</th>\n",
       "      <th>course3</th>\n",
       "    </tr>\n",
       "  </thead>\n",
       "  <tbody>\n",
       "    <tr>\n",
       "      <th>0</th>\n",
       "      <td>0</td>\n",
       "      <td>FundOfMangement</td>\n",
       "      <td>accounting</td>\n",
       "      <td>PLC</td>\n",
       "    </tr>\n",
       "    <tr>\n",
       "      <th>1</th>\n",
       "      <td>1</td>\n",
       "      <td>Control1</td>\n",
       "      <td>AVS</td>\n",
       "      <td>MechanicsAndThermodynamics</td>\n",
       "    </tr>\n",
       "    <tr>\n",
       "      <th>2</th>\n",
       "      <td>2</td>\n",
       "      <td>Ethics</td>\n",
       "      <td>-</td>\n",
       "      <td>-</td>\n",
       "    </tr>\n",
       "    <tr>\n",
       "      <th>3</th>\n",
       "      <td>3</td>\n",
       "      <td>MachineDesign2</td>\n",
       "      <td>Physics</td>\n",
       "      <td>-</td>\n",
       "    </tr>\n",
       "    <tr>\n",
       "      <th>4</th>\n",
       "      <td>4</td>\n",
       "      <td>TechnicalWriting</td>\n",
       "      <td>-</td>\n",
       "      <td>-</td>\n",
       "    </tr>\n",
       "    <tr>\n",
       "      <th>5</th>\n",
       "      <td>5</td>\n",
       "      <td>Vibration</td>\n",
       "      <td>-</td>\n",
       "      <td>-</td>\n",
       "    </tr>\n",
       "    <tr>\n",
       "      <th>6</th>\n",
       "      <td>6</td>\n",
       "      <td>Thermodynamics</td>\n",
       "      <td>-</td>\n",
       "      <td>-</td>\n",
       "    </tr>\n",
       "    <tr>\n",
       "      <th>7</th>\n",
       "      <td>7</td>\n",
       "      <td>Fields</td>\n",
       "      <td>-</td>\n",
       "      <td>-</td>\n",
       "    </tr>\n",
       "    <tr>\n",
       "      <th>8</th>\n",
       "      <td>8</td>\n",
       "      <td>CSAndProgramming</td>\n",
       "      <td>InudstrialElectronics</td>\n",
       "      <td>FundOfManuf</td>\n",
       "    </tr>\n",
       "    <tr>\n",
       "      <th>9</th>\n",
       "      <td>9</td>\n",
       "      <td>DigitalControl</td>\n",
       "      <td>-</td>\n",
       "      <td>-</td>\n",
       "    </tr>\n",
       "    <tr>\n",
       "      <th>10</th>\n",
       "      <td>10</td>\n",
       "      <td>Electronics1</td>\n",
       "      <td>SensorsAndActuators</td>\n",
       "      <td>calc1</td>\n",
       "    </tr>\n",
       "    <tr>\n",
       "      <th>11</th>\n",
       "      <td>11</td>\n",
       "      <td>Mechanics1</td>\n",
       "      <td>ManufSystemAutomation</td>\n",
       "      <td>Calc3</td>\n",
       "    </tr>\n",
       "    <tr>\n",
       "      <th>12</th>\n",
       "      <td>12</td>\n",
       "      <td>Robotics</td>\n",
       "      <td>Signal</td>\n",
       "      <td>Mechatronics1</td>\n",
       "    </tr>\n",
       "    <tr>\n",
       "      <th>13</th>\n",
       "      <td>13</td>\n",
       "      <td>LinearAlgebra</td>\n",
       "      <td>Logic</td>\n",
       "      <td>Microcontroller</td>\n",
       "    </tr>\n",
       "    <tr>\n",
       "      <th>14</th>\n",
       "      <td>14</td>\n",
       "      <td>NumericalControl</td>\n",
       "      <td>EngineeringDrawing</td>\n",
       "      <td>-</td>\n",
       "    </tr>\n",
       "    <tr>\n",
       "      <th>15</th>\n",
       "      <td>15</td>\n",
       "      <td>Fluid</td>\n",
       "      <td>-</td>\n",
       "      <td>-</td>\n",
       "    </tr>\n",
       "  </tbody>\n",
       "</table>\n",
       "</div>"
      ],
      "text/plain": [
       "    Unnamed: 0           course1                course2  \\\n",
       "0            0   FundOfMangement             accounting   \n",
       "1            1          Control1                    AVS   \n",
       "2            2            Ethics                      -   \n",
       "3            3    MachineDesign2                Physics   \n",
       "4            4  TechnicalWriting                      -   \n",
       "5            5         Vibration                      -   \n",
       "6            6    Thermodynamics                      -   \n",
       "7            7            Fields                      -   \n",
       "8            8  CSAndProgramming  InudstrialElectronics   \n",
       "9            9    DigitalControl                      -   \n",
       "10          10      Electronics1    SensorsAndActuators   \n",
       "11          11        Mechanics1  ManufSystemAutomation   \n",
       "12          12          Robotics                 Signal   \n",
       "13          13     LinearAlgebra                  Logic   \n",
       "14          14  NumericalControl     EngineeringDrawing   \n",
       "15          15             Fluid                      -   \n",
       "\n",
       "                       course3  \n",
       "0                          PLC  \n",
       "1   MechanicsAndThermodynamics  \n",
       "2                            -  \n",
       "3                            -  \n",
       "4                            -  \n",
       "5                            -  \n",
       "6                            -  \n",
       "7                            -  \n",
       "8                  FundOfManuf  \n",
       "9                            -  \n",
       "10                       calc1  \n",
       "11                       Calc3  \n",
       "12               Mechatronics1  \n",
       "13             Microcontroller  \n",
       "14                           -  \n",
       "15                           -  "
      ]
     },
     "metadata": {},
     "output_type": "display_data"
    },
    {
     "name": "stderr",
     "output_type": "stream",
     "text": [
      "[0110/155027.822284:WARNING:bluez_dbus_manager.cc(247)] Floss manager not present, cannot set Floss enable/disable.\n",
      "[0110/155027.857013:WARNING:sandbox_linux.cc(380)] InitializeSandbox() called with multiple threads in process gpu-process.\n",
      "[0110/155028.053506:INFO:headless_shell.cc(623)] Written to file /tmp/tmp7ajk_fcl/temp.png.\n"
     ]
    }
   ],
   "source": [
    "import pandas as pd\n",
    "import dataframe_image as dfi\n",
    " \n",
    "df = pd.read_csv(\"t.csv\")\n",
    "display(df)\n",
    "dfi.export(df, 'dataframe.png')"
   ]
  },
  {
   "cell_type": "code",
   "execution_count": 55,
   "id": "37a8be95",
   "metadata": {},
   "outputs": [
    {
     "data": {
      "application/vnd.plotly.v1+json": {
       "config": {
        "plotlyServerURL": "https://plot.ly"
       },
       "data": [
        {
         "cells": {
          "align": "center",
          "fill": {
           "color": [
            [
             "#ffffff",
             "#104A60",
             "#ffffff",
             "#104A60",
             "#ffffff",
             "#104A60",
             "#ffffff",
             "#104A60",
             "#ffffff",
             "#104A60",
             "#ffffff",
             "#104A60",
             "#ffffff",
             "#104A60",
             "#ffffff",
             "#104A60",
             "#ffffff",
             "#104A60",
             "#ffffff",
             "#104A60",
             "#ffffff",
             "#104A60",
             "#ffffff",
             "#104A60",
             "#ffffff",
             "#104A60",
             "#ffffff",
             "#104A60",
             "#ffffff",
             "#104A60",
             "#ffffff",
             "#104A60"
            ]
           ]
          },
          "font": {
           "color": [
            [
             "#000000",
             "#ffffff",
             "#000000",
             "#ffffff",
             "#000000",
             "#ffffff",
             "#000000",
             "#ffffff",
             "#000000",
             "#ffffff",
             "#000000",
             "#ffffff",
             "#000000",
             "#ffffff",
             "#000000",
             "#ffffff",
             "#000000",
             "#ffffff",
             "#000000",
             "#ffffff",
             "#000000",
             "#ffffff",
             "#000000",
             "#ffffff",
             "#000000",
             "#ffffff",
             "#000000",
             "#ffffff",
             "#000000",
             "#ffffff",
             "#000000",
             "#ffffff"
            ]
           ]
          },
          "values": [
           [
            0,
            1,
            2,
            3,
            4,
            5,
            6,
            7,
            8,
            9,
            10,
            11,
            12,
            13,
            14,
            15
           ],
           [
            "FundOfMangement",
            "Control1",
            "Ethics",
            "MachineDesign2",
            "TechnicalWriting",
            "Vibration",
            "Thermodynamics",
            "Fields",
            "CSAndProgramming",
            "DigitalControl",
            "Electronics1",
            "Mechanics1",
            "Robotics",
            "LinearAlgebra",
            "NumericalControl",
            "Fluid"
           ],
           [
            "accounting",
            "AVS",
            "-",
            "Physics",
            "-",
            "-",
            "-",
            "-",
            "InudstrialElectronics",
            "-",
            "SensorsAndActuators",
            "ManufSystemAutomation",
            "Signal",
            "Logic",
            "EngineeringDrawing",
            "-"
           ],
           [
            "PLC",
            "MechanicsAndThermodynamics",
            "-",
            "-",
            "-",
            "-",
            "-",
            "-",
            "FundOfManuf",
            "-",
            "calc1",
            "Calc3",
            "Mechatronics1",
            "Microcontroller",
            "-",
            "-"
           ]
          ]
         },
         "header": {
          "align": "center",
          "fill": {
           "color": "#104A60"
          },
          "font": {
           "color": "white"
          },
          "values": [
           "Unnamed: 0",
           "course1",
           "course2",
           "course3"
          ]
         },
         "type": "table"
        }
       ],
       "layout": {
        "template": {
         "data": {
          "bar": [
           {
            "error_x": {
             "color": "#2a3f5f"
            },
            "error_y": {
             "color": "#2a3f5f"
            },
            "marker": {
             "line": {
              "color": "#E5ECF6",
              "width": 0.5
             },
             "pattern": {
              "fillmode": "overlay",
              "size": 10,
              "solidity": 0.2
             }
            },
            "type": "bar"
           }
          ],
          "barpolar": [
           {
            "marker": {
             "line": {
              "color": "#E5ECF6",
              "width": 0.5
             },
             "pattern": {
              "fillmode": "overlay",
              "size": 10,
              "solidity": 0.2
             }
            },
            "type": "barpolar"
           }
          ],
          "carpet": [
           {
            "aaxis": {
             "endlinecolor": "#2a3f5f",
             "gridcolor": "white",
             "linecolor": "white",
             "minorgridcolor": "white",
             "startlinecolor": "#2a3f5f"
            },
            "baxis": {
             "endlinecolor": "#2a3f5f",
             "gridcolor": "white",
             "linecolor": "white",
             "minorgridcolor": "white",
             "startlinecolor": "#2a3f5f"
            },
            "type": "carpet"
           }
          ],
          "choropleth": [
           {
            "colorbar": {
             "outlinewidth": 0,
             "ticks": ""
            },
            "type": "choropleth"
           }
          ],
          "contour": [
           {
            "colorbar": {
             "outlinewidth": 0,
             "ticks": ""
            },
            "colorscale": [
             [
              0,
              "#0d0887"
             ],
             [
              0.1111111111111111,
              "#46039f"
             ],
             [
              0.2222222222222222,
              "#7201a8"
             ],
             [
              0.3333333333333333,
              "#9c179e"
             ],
             [
              0.4444444444444444,
              "#bd3786"
             ],
             [
              0.5555555555555556,
              "#d8576b"
             ],
             [
              0.6666666666666666,
              "#ed7953"
             ],
             [
              0.7777777777777778,
              "#fb9f3a"
             ],
             [
              0.8888888888888888,
              "#fdca26"
             ],
             [
              1,
              "#f0f921"
             ]
            ],
            "type": "contour"
           }
          ],
          "contourcarpet": [
           {
            "colorbar": {
             "outlinewidth": 0,
             "ticks": ""
            },
            "type": "contourcarpet"
           }
          ],
          "heatmap": [
           {
            "colorbar": {
             "outlinewidth": 0,
             "ticks": ""
            },
            "colorscale": [
             [
              0,
              "#0d0887"
             ],
             [
              0.1111111111111111,
              "#46039f"
             ],
             [
              0.2222222222222222,
              "#7201a8"
             ],
             [
              0.3333333333333333,
              "#9c179e"
             ],
             [
              0.4444444444444444,
              "#bd3786"
             ],
             [
              0.5555555555555556,
              "#d8576b"
             ],
             [
              0.6666666666666666,
              "#ed7953"
             ],
             [
              0.7777777777777778,
              "#fb9f3a"
             ],
             [
              0.8888888888888888,
              "#fdca26"
             ],
             [
              1,
              "#f0f921"
             ]
            ],
            "type": "heatmap"
           }
          ],
          "heatmapgl": [
           {
            "colorbar": {
             "outlinewidth": 0,
             "ticks": ""
            },
            "colorscale": [
             [
              0,
              "#0d0887"
             ],
             [
              0.1111111111111111,
              "#46039f"
             ],
             [
              0.2222222222222222,
              "#7201a8"
             ],
             [
              0.3333333333333333,
              "#9c179e"
             ],
             [
              0.4444444444444444,
              "#bd3786"
             ],
             [
              0.5555555555555556,
              "#d8576b"
             ],
             [
              0.6666666666666666,
              "#ed7953"
             ],
             [
              0.7777777777777778,
              "#fb9f3a"
             ],
             [
              0.8888888888888888,
              "#fdca26"
             ],
             [
              1,
              "#f0f921"
             ]
            ],
            "type": "heatmapgl"
           }
          ],
          "histogram": [
           {
            "marker": {
             "pattern": {
              "fillmode": "overlay",
              "size": 10,
              "solidity": 0.2
             }
            },
            "type": "histogram"
           }
          ],
          "histogram2d": [
           {
            "colorbar": {
             "outlinewidth": 0,
             "ticks": ""
            },
            "colorscale": [
             [
              0,
              "#0d0887"
             ],
             [
              0.1111111111111111,
              "#46039f"
             ],
             [
              0.2222222222222222,
              "#7201a8"
             ],
             [
              0.3333333333333333,
              "#9c179e"
             ],
             [
              0.4444444444444444,
              "#bd3786"
             ],
             [
              0.5555555555555556,
              "#d8576b"
             ],
             [
              0.6666666666666666,
              "#ed7953"
             ],
             [
              0.7777777777777778,
              "#fb9f3a"
             ],
             [
              0.8888888888888888,
              "#fdca26"
             ],
             [
              1,
              "#f0f921"
             ]
            ],
            "type": "histogram2d"
           }
          ],
          "histogram2dcontour": [
           {
            "colorbar": {
             "outlinewidth": 0,
             "ticks": ""
            },
            "colorscale": [
             [
              0,
              "#0d0887"
             ],
             [
              0.1111111111111111,
              "#46039f"
             ],
             [
              0.2222222222222222,
              "#7201a8"
             ],
             [
              0.3333333333333333,
              "#9c179e"
             ],
             [
              0.4444444444444444,
              "#bd3786"
             ],
             [
              0.5555555555555556,
              "#d8576b"
             ],
             [
              0.6666666666666666,
              "#ed7953"
             ],
             [
              0.7777777777777778,
              "#fb9f3a"
             ],
             [
              0.8888888888888888,
              "#fdca26"
             ],
             [
              1,
              "#f0f921"
             ]
            ],
            "type": "histogram2dcontour"
           }
          ],
          "mesh3d": [
           {
            "colorbar": {
             "outlinewidth": 0,
             "ticks": ""
            },
            "type": "mesh3d"
           }
          ],
          "parcoords": [
           {
            "line": {
             "colorbar": {
              "outlinewidth": 0,
              "ticks": ""
             }
            },
            "type": "parcoords"
           }
          ],
          "pie": [
           {
            "automargin": true,
            "type": "pie"
           }
          ],
          "scatter": [
           {
            "fillpattern": {
             "fillmode": "overlay",
             "size": 10,
             "solidity": 0.2
            },
            "type": "scatter"
           }
          ],
          "scatter3d": [
           {
            "line": {
             "colorbar": {
              "outlinewidth": 0,
              "ticks": ""
             }
            },
            "marker": {
             "colorbar": {
              "outlinewidth": 0,
              "ticks": ""
             }
            },
            "type": "scatter3d"
           }
          ],
          "scattercarpet": [
           {
            "marker": {
             "colorbar": {
              "outlinewidth": 0,
              "ticks": ""
             }
            },
            "type": "scattercarpet"
           }
          ],
          "scattergeo": [
           {
            "marker": {
             "colorbar": {
              "outlinewidth": 0,
              "ticks": ""
             }
            },
            "type": "scattergeo"
           }
          ],
          "scattergl": [
           {
            "marker": {
             "colorbar": {
              "outlinewidth": 0,
              "ticks": ""
             }
            },
            "type": "scattergl"
           }
          ],
          "scattermapbox": [
           {
            "marker": {
             "colorbar": {
              "outlinewidth": 0,
              "ticks": ""
             }
            },
            "type": "scattermapbox"
           }
          ],
          "scatterpolar": [
           {
            "marker": {
             "colorbar": {
              "outlinewidth": 0,
              "ticks": ""
             }
            },
            "type": "scatterpolar"
           }
          ],
          "scatterpolargl": [
           {
            "marker": {
             "colorbar": {
              "outlinewidth": 0,
              "ticks": ""
             }
            },
            "type": "scatterpolargl"
           }
          ],
          "scatterternary": [
           {
            "marker": {
             "colorbar": {
              "outlinewidth": 0,
              "ticks": ""
             }
            },
            "type": "scatterternary"
           }
          ],
          "surface": [
           {
            "colorbar": {
             "outlinewidth": 0,
             "ticks": ""
            },
            "colorscale": [
             [
              0,
              "#0d0887"
             ],
             [
              0.1111111111111111,
              "#46039f"
             ],
             [
              0.2222222222222222,
              "#7201a8"
             ],
             [
              0.3333333333333333,
              "#9c179e"
             ],
             [
              0.4444444444444444,
              "#bd3786"
             ],
             [
              0.5555555555555556,
              "#d8576b"
             ],
             [
              0.6666666666666666,
              "#ed7953"
             ],
             [
              0.7777777777777778,
              "#fb9f3a"
             ],
             [
              0.8888888888888888,
              "#fdca26"
             ],
             [
              1,
              "#f0f921"
             ]
            ],
            "type": "surface"
           }
          ],
          "table": [
           {
            "cells": {
             "fill": {
              "color": "#EBF0F8"
             },
             "line": {
              "color": "white"
             }
            },
            "header": {
             "fill": {
              "color": "#C8D4E3"
             },
             "line": {
              "color": "white"
             }
            },
            "type": "table"
           }
          ]
         },
         "layout": {
          "annotationdefaults": {
           "arrowcolor": "#2a3f5f",
           "arrowhead": 0,
           "arrowwidth": 1
          },
          "autotypenumbers": "strict",
          "coloraxis": {
           "colorbar": {
            "outlinewidth": 0,
            "ticks": ""
           }
          },
          "colorscale": {
           "diverging": [
            [
             0,
             "#8e0152"
            ],
            [
             0.1,
             "#c51b7d"
            ],
            [
             0.2,
             "#de77ae"
            ],
            [
             0.3,
             "#f1b6da"
            ],
            [
             0.4,
             "#fde0ef"
            ],
            [
             0.5,
             "#f7f7f7"
            ],
            [
             0.6,
             "#e6f5d0"
            ],
            [
             0.7,
             "#b8e186"
            ],
            [
             0.8,
             "#7fbc41"
            ],
            [
             0.9,
             "#4d9221"
            ],
            [
             1,
             "#276419"
            ]
           ],
           "sequential": [
            [
             0,
             "#0d0887"
            ],
            [
             0.1111111111111111,
             "#46039f"
            ],
            [
             0.2222222222222222,
             "#7201a8"
            ],
            [
             0.3333333333333333,
             "#9c179e"
            ],
            [
             0.4444444444444444,
             "#bd3786"
            ],
            [
             0.5555555555555556,
             "#d8576b"
            ],
            [
             0.6666666666666666,
             "#ed7953"
            ],
            [
             0.7777777777777778,
             "#fb9f3a"
            ],
            [
             0.8888888888888888,
             "#fdca26"
            ],
            [
             1,
             "#f0f921"
            ]
           ],
           "sequentialminus": [
            [
             0,
             "#0d0887"
            ],
            [
             0.1111111111111111,
             "#46039f"
            ],
            [
             0.2222222222222222,
             "#7201a8"
            ],
            [
             0.3333333333333333,
             "#9c179e"
            ],
            [
             0.4444444444444444,
             "#bd3786"
            ],
            [
             0.5555555555555556,
             "#d8576b"
            ],
            [
             0.6666666666666666,
             "#ed7953"
            ],
            [
             0.7777777777777778,
             "#fb9f3a"
            ],
            [
             0.8888888888888888,
             "#fdca26"
            ],
            [
             1,
             "#f0f921"
            ]
           ]
          },
          "colorway": [
           "#636efa",
           "#EF553B",
           "#00cc96",
           "#ab63fa",
           "#FFA15A",
           "#19d3f3",
           "#FF6692",
           "#B6E880",
           "#FF97FF",
           "#FECB52"
          ],
          "font": {
           "color": "#2a3f5f"
          },
          "geo": {
           "bgcolor": "white",
           "lakecolor": "white",
           "landcolor": "#E5ECF6",
           "showlakes": true,
           "showland": true,
           "subunitcolor": "white"
          },
          "hoverlabel": {
           "align": "left"
          },
          "hovermode": "closest",
          "mapbox": {
           "style": "light"
          },
          "paper_bgcolor": "white",
          "plot_bgcolor": "#E5ECF6",
          "polar": {
           "angularaxis": {
            "gridcolor": "white",
            "linecolor": "white",
            "ticks": ""
           },
           "bgcolor": "#E5ECF6",
           "radialaxis": {
            "gridcolor": "white",
            "linecolor": "white",
            "ticks": ""
           }
          },
          "scene": {
           "xaxis": {
            "backgroundcolor": "#E5ECF6",
            "gridcolor": "white",
            "gridwidth": 2,
            "linecolor": "white",
            "showbackground": true,
            "ticks": "",
            "zerolinecolor": "white"
           },
           "yaxis": {
            "backgroundcolor": "#E5ECF6",
            "gridcolor": "white",
            "gridwidth": 2,
            "linecolor": "white",
            "showbackground": true,
            "ticks": "",
            "zerolinecolor": "white"
           },
           "zaxis": {
            "backgroundcolor": "#E5ECF6",
            "gridcolor": "white",
            "gridwidth": 2,
            "linecolor": "white",
            "showbackground": true,
            "ticks": "",
            "zerolinecolor": "white"
           }
          },
          "shapedefaults": {
           "line": {
            "color": "#2a3f5f"
           }
          },
          "ternary": {
           "aaxis": {
            "gridcolor": "white",
            "linecolor": "white",
            "ticks": ""
           },
           "baxis": {
            "gridcolor": "white",
            "linecolor": "white",
            "ticks": ""
           },
           "bgcolor": "#E5ECF6",
           "caxis": {
            "gridcolor": "white",
            "linecolor": "white",
            "ticks": ""
           }
          },
          "title": {
           "x": 0.05
          },
          "xaxis": {
           "automargin": true,
           "gridcolor": "white",
           "linecolor": "white",
           "ticks": "",
           "title": {
            "standoff": 15
           },
           "zerolinecolor": "white",
           "zerolinewidth": 2
          },
          "yaxis": {
           "automargin": true,
           "gridcolor": "white",
           "linecolor": "white",
           "ticks": "",
           "title": {
            "standoff": 15
           },
           "zerolinecolor": "white",
           "zerolinewidth": 2
          }
         }
        }
       }
      },
      "text/html": [
       "<div>                            <div id=\"cec40968-7095-4019-97a8-95e5ec0cc441\" class=\"plotly-graph-div\" style=\"height:525px; width:100%;\"></div>            <script type=\"text/javascript\">                require([\"plotly\"], function(Plotly) {                    window.PLOTLYENV=window.PLOTLYENV || {};                                    if (document.getElementById(\"cec40968-7095-4019-97a8-95e5ec0cc441\")) {                    Plotly.newPlot(                        \"cec40968-7095-4019-97a8-95e5ec0cc441\",                        [{\"cells\":{\"align\":\"center\",\"fill\":{\"color\":[[\"#ffffff\",\"#104A60\",\"#ffffff\",\"#104A60\",\"#ffffff\",\"#104A60\",\"#ffffff\",\"#104A60\",\"#ffffff\",\"#104A60\",\"#ffffff\",\"#104A60\",\"#ffffff\",\"#104A60\",\"#ffffff\",\"#104A60\",\"#ffffff\",\"#104A60\",\"#ffffff\",\"#104A60\",\"#ffffff\",\"#104A60\",\"#ffffff\",\"#104A60\",\"#ffffff\",\"#104A60\",\"#ffffff\",\"#104A60\",\"#ffffff\",\"#104A60\",\"#ffffff\",\"#104A60\"]]},\"font\":{\"color\":[[\"#000000\",\"#ffffff\",\"#000000\",\"#ffffff\",\"#000000\",\"#ffffff\",\"#000000\",\"#ffffff\",\"#000000\",\"#ffffff\",\"#000000\",\"#ffffff\",\"#000000\",\"#ffffff\",\"#000000\",\"#ffffff\",\"#000000\",\"#ffffff\",\"#000000\",\"#ffffff\",\"#000000\",\"#ffffff\",\"#000000\",\"#ffffff\",\"#000000\",\"#ffffff\",\"#000000\",\"#ffffff\",\"#000000\",\"#ffffff\",\"#000000\",\"#ffffff\"]]},\"values\":[[0,1,2,3,4,5,6,7,8,9,10,11,12,13,14,15],[\"FundOfMangement\",\"Control1\",\"Ethics\",\"MachineDesign2\",\"TechnicalWriting\",\"Vibration\",\"Thermodynamics\",\"Fields\",\"CSAndProgramming\",\"DigitalControl\",\"Electronics1\",\"Mechanics1\",\"Robotics\",\"LinearAlgebra\",\"NumericalControl\",\"Fluid\"],[\"accounting\",\"AVS\",\"-\",\"Physics\",\"-\",\"-\",\"-\",\"-\",\"InudstrialElectronics\",\"-\",\"SensorsAndActuators\",\"ManufSystemAutomation\",\"Signal\",\"Logic\",\"EngineeringDrawing\",\"-\"],[\"PLC\",\"MechanicsAndThermodynamics\",\"-\",\"-\",\"-\",\"-\",\"-\",\"-\",\"FundOfManuf\",\"-\",\"calc1\",\"Calc3\",\"Mechatronics1\",\"Microcontroller\",\"-\",\"-\"]]},\"header\":{\"align\":\"center\",\"fill\":{\"color\":\"#104A60\"},\"font\":{\"color\":\"white\"},\"values\":[\"Unnamed: 0\",\"course1\",\"course2\",\"course3\"]},\"type\":\"table\"}],                        {\"template\":{\"data\":{\"histogram2dcontour\":[{\"type\":\"histogram2dcontour\",\"colorbar\":{\"outlinewidth\":0,\"ticks\":\"\"},\"colorscale\":[[0.0,\"#0d0887\"],[0.1111111111111111,\"#46039f\"],[0.2222222222222222,\"#7201a8\"],[0.3333333333333333,\"#9c179e\"],[0.4444444444444444,\"#bd3786\"],[0.5555555555555556,\"#d8576b\"],[0.6666666666666666,\"#ed7953\"],[0.7777777777777778,\"#fb9f3a\"],[0.8888888888888888,\"#fdca26\"],[1.0,\"#f0f921\"]]}],\"choropleth\":[{\"type\":\"choropleth\",\"colorbar\":{\"outlinewidth\":0,\"ticks\":\"\"}}],\"histogram2d\":[{\"type\":\"histogram2d\",\"colorbar\":{\"outlinewidth\":0,\"ticks\":\"\"},\"colorscale\":[[0.0,\"#0d0887\"],[0.1111111111111111,\"#46039f\"],[0.2222222222222222,\"#7201a8\"],[0.3333333333333333,\"#9c179e\"],[0.4444444444444444,\"#bd3786\"],[0.5555555555555556,\"#d8576b\"],[0.6666666666666666,\"#ed7953\"],[0.7777777777777778,\"#fb9f3a\"],[0.8888888888888888,\"#fdca26\"],[1.0,\"#f0f921\"]]}],\"heatmap\":[{\"type\":\"heatmap\",\"colorbar\":{\"outlinewidth\":0,\"ticks\":\"\"},\"colorscale\":[[0.0,\"#0d0887\"],[0.1111111111111111,\"#46039f\"],[0.2222222222222222,\"#7201a8\"],[0.3333333333333333,\"#9c179e\"],[0.4444444444444444,\"#bd3786\"],[0.5555555555555556,\"#d8576b\"],[0.6666666666666666,\"#ed7953\"],[0.7777777777777778,\"#fb9f3a\"],[0.8888888888888888,\"#fdca26\"],[1.0,\"#f0f921\"]]}],\"heatmapgl\":[{\"type\":\"heatmapgl\",\"colorbar\":{\"outlinewidth\":0,\"ticks\":\"\"},\"colorscale\":[[0.0,\"#0d0887\"],[0.1111111111111111,\"#46039f\"],[0.2222222222222222,\"#7201a8\"],[0.3333333333333333,\"#9c179e\"],[0.4444444444444444,\"#bd3786\"],[0.5555555555555556,\"#d8576b\"],[0.6666666666666666,\"#ed7953\"],[0.7777777777777778,\"#fb9f3a\"],[0.8888888888888888,\"#fdca26\"],[1.0,\"#f0f921\"]]}],\"contourcarpet\":[{\"type\":\"contourcarpet\",\"colorbar\":{\"outlinewidth\":0,\"ticks\":\"\"}}],\"contour\":[{\"type\":\"contour\",\"colorbar\":{\"outlinewidth\":0,\"ticks\":\"\"},\"colorscale\":[[0.0,\"#0d0887\"],[0.1111111111111111,\"#46039f\"],[0.2222222222222222,\"#7201a8\"],[0.3333333333333333,\"#9c179e\"],[0.4444444444444444,\"#bd3786\"],[0.5555555555555556,\"#d8576b\"],[0.6666666666666666,\"#ed7953\"],[0.7777777777777778,\"#fb9f3a\"],[0.8888888888888888,\"#fdca26\"],[1.0,\"#f0f921\"]]}],\"surface\":[{\"type\":\"surface\",\"colorbar\":{\"outlinewidth\":0,\"ticks\":\"\"},\"colorscale\":[[0.0,\"#0d0887\"],[0.1111111111111111,\"#46039f\"],[0.2222222222222222,\"#7201a8\"],[0.3333333333333333,\"#9c179e\"],[0.4444444444444444,\"#bd3786\"],[0.5555555555555556,\"#d8576b\"],[0.6666666666666666,\"#ed7953\"],[0.7777777777777778,\"#fb9f3a\"],[0.8888888888888888,\"#fdca26\"],[1.0,\"#f0f921\"]]}],\"mesh3d\":[{\"type\":\"mesh3d\",\"colorbar\":{\"outlinewidth\":0,\"ticks\":\"\"}}],\"scatter\":[{\"fillpattern\":{\"fillmode\":\"overlay\",\"size\":10,\"solidity\":0.2},\"type\":\"scatter\"}],\"parcoords\":[{\"type\":\"parcoords\",\"line\":{\"colorbar\":{\"outlinewidth\":0,\"ticks\":\"\"}}}],\"scatterpolargl\":[{\"type\":\"scatterpolargl\",\"marker\":{\"colorbar\":{\"outlinewidth\":0,\"ticks\":\"\"}}}],\"bar\":[{\"error_x\":{\"color\":\"#2a3f5f\"},\"error_y\":{\"color\":\"#2a3f5f\"},\"marker\":{\"line\":{\"color\":\"#E5ECF6\",\"width\":0.5},\"pattern\":{\"fillmode\":\"overlay\",\"size\":10,\"solidity\":0.2}},\"type\":\"bar\"}],\"scattergeo\":[{\"type\":\"scattergeo\",\"marker\":{\"colorbar\":{\"outlinewidth\":0,\"ticks\":\"\"}}}],\"scatterpolar\":[{\"type\":\"scatterpolar\",\"marker\":{\"colorbar\":{\"outlinewidth\":0,\"ticks\":\"\"}}}],\"histogram\":[{\"marker\":{\"pattern\":{\"fillmode\":\"overlay\",\"size\":10,\"solidity\":0.2}},\"type\":\"histogram\"}],\"scattergl\":[{\"type\":\"scattergl\",\"marker\":{\"colorbar\":{\"outlinewidth\":0,\"ticks\":\"\"}}}],\"scatter3d\":[{\"type\":\"scatter3d\",\"line\":{\"colorbar\":{\"outlinewidth\":0,\"ticks\":\"\"}},\"marker\":{\"colorbar\":{\"outlinewidth\":0,\"ticks\":\"\"}}}],\"scattermapbox\":[{\"type\":\"scattermapbox\",\"marker\":{\"colorbar\":{\"outlinewidth\":0,\"ticks\":\"\"}}}],\"scatterternary\":[{\"type\":\"scatterternary\",\"marker\":{\"colorbar\":{\"outlinewidth\":0,\"ticks\":\"\"}}}],\"scattercarpet\":[{\"type\":\"scattercarpet\",\"marker\":{\"colorbar\":{\"outlinewidth\":0,\"ticks\":\"\"}}}],\"carpet\":[{\"aaxis\":{\"endlinecolor\":\"#2a3f5f\",\"gridcolor\":\"white\",\"linecolor\":\"white\",\"minorgridcolor\":\"white\",\"startlinecolor\":\"#2a3f5f\"},\"baxis\":{\"endlinecolor\":\"#2a3f5f\",\"gridcolor\":\"white\",\"linecolor\":\"white\",\"minorgridcolor\":\"white\",\"startlinecolor\":\"#2a3f5f\"},\"type\":\"carpet\"}],\"table\":[{\"cells\":{\"fill\":{\"color\":\"#EBF0F8\"},\"line\":{\"color\":\"white\"}},\"header\":{\"fill\":{\"color\":\"#C8D4E3\"},\"line\":{\"color\":\"white\"}},\"type\":\"table\"}],\"barpolar\":[{\"marker\":{\"line\":{\"color\":\"#E5ECF6\",\"width\":0.5},\"pattern\":{\"fillmode\":\"overlay\",\"size\":10,\"solidity\":0.2}},\"type\":\"barpolar\"}],\"pie\":[{\"automargin\":true,\"type\":\"pie\"}]},\"layout\":{\"autotypenumbers\":\"strict\",\"colorway\":[\"#636efa\",\"#EF553B\",\"#00cc96\",\"#ab63fa\",\"#FFA15A\",\"#19d3f3\",\"#FF6692\",\"#B6E880\",\"#FF97FF\",\"#FECB52\"],\"font\":{\"color\":\"#2a3f5f\"},\"hovermode\":\"closest\",\"hoverlabel\":{\"align\":\"left\"},\"paper_bgcolor\":\"white\",\"plot_bgcolor\":\"#E5ECF6\",\"polar\":{\"bgcolor\":\"#E5ECF6\",\"angularaxis\":{\"gridcolor\":\"white\",\"linecolor\":\"white\",\"ticks\":\"\"},\"radialaxis\":{\"gridcolor\":\"white\",\"linecolor\":\"white\",\"ticks\":\"\"}},\"ternary\":{\"bgcolor\":\"#E5ECF6\",\"aaxis\":{\"gridcolor\":\"white\",\"linecolor\":\"white\",\"ticks\":\"\"},\"baxis\":{\"gridcolor\":\"white\",\"linecolor\":\"white\",\"ticks\":\"\"},\"caxis\":{\"gridcolor\":\"white\",\"linecolor\":\"white\",\"ticks\":\"\"}},\"coloraxis\":{\"colorbar\":{\"outlinewidth\":0,\"ticks\":\"\"}},\"colorscale\":{\"sequential\":[[0.0,\"#0d0887\"],[0.1111111111111111,\"#46039f\"],[0.2222222222222222,\"#7201a8\"],[0.3333333333333333,\"#9c179e\"],[0.4444444444444444,\"#bd3786\"],[0.5555555555555556,\"#d8576b\"],[0.6666666666666666,\"#ed7953\"],[0.7777777777777778,\"#fb9f3a\"],[0.8888888888888888,\"#fdca26\"],[1.0,\"#f0f921\"]],\"sequentialminus\":[[0.0,\"#0d0887\"],[0.1111111111111111,\"#46039f\"],[0.2222222222222222,\"#7201a8\"],[0.3333333333333333,\"#9c179e\"],[0.4444444444444444,\"#bd3786\"],[0.5555555555555556,\"#d8576b\"],[0.6666666666666666,\"#ed7953\"],[0.7777777777777778,\"#fb9f3a\"],[0.8888888888888888,\"#fdca26\"],[1.0,\"#f0f921\"]],\"diverging\":[[0,\"#8e0152\"],[0.1,\"#c51b7d\"],[0.2,\"#de77ae\"],[0.3,\"#f1b6da\"],[0.4,\"#fde0ef\"],[0.5,\"#f7f7f7\"],[0.6,\"#e6f5d0\"],[0.7,\"#b8e186\"],[0.8,\"#7fbc41\"],[0.9,\"#4d9221\"],[1,\"#276419\"]]},\"xaxis\":{\"gridcolor\":\"white\",\"linecolor\":\"white\",\"ticks\":\"\",\"title\":{\"standoff\":15},\"zerolinecolor\":\"white\",\"automargin\":true,\"zerolinewidth\":2},\"yaxis\":{\"gridcolor\":\"white\",\"linecolor\":\"white\",\"ticks\":\"\",\"title\":{\"standoff\":15},\"zerolinecolor\":\"white\",\"automargin\":true,\"zerolinewidth\":2},\"scene\":{\"xaxis\":{\"backgroundcolor\":\"#E5ECF6\",\"gridcolor\":\"white\",\"linecolor\":\"white\",\"showbackground\":true,\"ticks\":\"\",\"zerolinecolor\":\"white\",\"gridwidth\":2},\"yaxis\":{\"backgroundcolor\":\"#E5ECF6\",\"gridcolor\":\"white\",\"linecolor\":\"white\",\"showbackground\":true,\"ticks\":\"\",\"zerolinecolor\":\"white\",\"gridwidth\":2},\"zaxis\":{\"backgroundcolor\":\"#E5ECF6\",\"gridcolor\":\"white\",\"linecolor\":\"white\",\"showbackground\":true,\"ticks\":\"\",\"zerolinecolor\":\"white\",\"gridwidth\":2}},\"shapedefaults\":{\"line\":{\"color\":\"#2a3f5f\"}},\"annotationdefaults\":{\"arrowcolor\":\"#2a3f5f\",\"arrowhead\":0,\"arrowwidth\":1},\"geo\":{\"bgcolor\":\"white\",\"landcolor\":\"#E5ECF6\",\"subunitcolor\":\"white\",\"showland\":true,\"showlakes\":true,\"lakecolor\":\"white\"},\"title\":{\"x\":0.05},\"mapbox\":{\"style\":\"light\"}}}},                        {\"responsive\": true}                    ).then(function(){\n",
       "                            \n",
       "var gd = document.getElementById('cec40968-7095-4019-97a8-95e5ec0cc441');\n",
       "var x = new MutationObserver(function (mutations, observer) {{\n",
       "        var display = window.getComputedStyle(gd).display;\n",
       "        if (!display || display === 'none') {{\n",
       "            console.log([gd, 'removed!']);\n",
       "            Plotly.purge(gd);\n",
       "            observer.disconnect();\n",
       "        }}\n",
       "}});\n",
       "\n",
       "// Listen for the removal of the full notebook cells\n",
       "var notebookContainer = gd.closest('#notebook-container');\n",
       "if (notebookContainer) {{\n",
       "    x.observe(notebookContainer, {childList: true});\n",
       "}}\n",
       "\n",
       "// Listen for the clearing of the current output cell\n",
       "var outputEl = gd.closest('.output');\n",
       "if (outputEl) {{\n",
       "    x.observe(outputEl, {childList: true});\n",
       "}}\n",
       "\n",
       "                        })                };                });            </script>        </div>"
      ]
     },
     "metadata": {},
     "output_type": "display_data"
    }
   ],
   "source": [
    "import plotly.graph_objects as go\n",
    "import pandas as pd\n",
    "data = pd.read_csv(\"t.csv\")\n",
    "df = pd.read_csv(\"t.csv\")\n",
    "\n",
    "fig = go.Figure(data=[go.Table(header=dict(values=list(df.columns),align='center',fill_color='#104A60',font=dict(color=\"white\")),\n",
    "                               \n",
    "                               cells=dict(values=df.values.transpose(),\n",
    "                                          font=dict(color=[[\"#000000\",\"#ffffff\"]*df.shape[0]]),\n",
    "                                          fill_color = [[\"#ffffff\",\"#104A60\"]*df.shape[0]],align='center'))])\n",
    "\n",
    "fig.write_html(\"table.html\")\n",
    "fig.show()"
   ]
  },
  {
   "cell_type": "code",
   "execution_count": 76,
   "id": "3c275356",
   "metadata": {},
   "outputs": [
    {
     "data": {
      "text/html": [
       "<style type=\"text/css\">\n",
       "#T_e1051_row0_col0, #T_e1051_row0_col1, #T_e1051_row0_col2, #T_e1051_row0_col3, #T_e1051_row2_col0, #T_e1051_row2_col1, #T_e1051_row2_col2, #T_e1051_row2_col3, #T_e1051_row4_col0, #T_e1051_row4_col1, #T_e1051_row4_col2, #T_e1051_row4_col3, #T_e1051_row6_col0, #T_e1051_row6_col1, #T_e1051_row6_col2, #T_e1051_row6_col3, #T_e1051_row8_col0, #T_e1051_row8_col1, #T_e1051_row8_col2, #T_e1051_row8_col3, #T_e1051_row10_col0, #T_e1051_row10_col1, #T_e1051_row10_col2, #T_e1051_row10_col3, #T_e1051_row12_col0, #T_e1051_row12_col1, #T_e1051_row12_col2, #T_e1051_row12_col3, #T_e1051_row14_col0, #T_e1051_row14_col1, #T_e1051_row14_col2, #T_e1051_row14_col3 {\n",
       "  background-color: #ffffff;\n",
       "  color: black;\n",
       "}\n",
       "#T_e1051_row1_col0, #T_e1051_row1_col1, #T_e1051_row1_col2, #T_e1051_row1_col3, #T_e1051_row3_col0, #T_e1051_row3_col1, #T_e1051_row3_col2, #T_e1051_row3_col3, #T_e1051_row5_col0, #T_e1051_row5_col1, #T_e1051_row5_col2, #T_e1051_row5_col3, #T_e1051_row7_col0, #T_e1051_row7_col1, #T_e1051_row7_col2, #T_e1051_row7_col3, #T_e1051_row9_col0, #T_e1051_row9_col1, #T_e1051_row9_col2, #T_e1051_row9_col3, #T_e1051_row11_col0, #T_e1051_row11_col1, #T_e1051_row11_col2, #T_e1051_row11_col3, #T_e1051_row13_col0, #T_e1051_row13_col1, #T_e1051_row13_col2, #T_e1051_row13_col3, #T_e1051_row15_col0, #T_e1051_row15_col1, #T_e1051_row15_col2, #T_e1051_row15_col3 {\n",
       "  background-color: #104A60;\n",
       "  color: white;\n",
       "}\n",
       "</style>\n",
       "<table id=\"T_e1051\">\n",
       "  <thead>\n",
       "    <tr>\n",
       "      <th class=\"blank level0\" >&nbsp;</th>\n",
       "      <th id=\"T_e1051_level0_col0\" class=\"col_heading level0 col0\" >Unnamed: 0</th>\n",
       "      <th id=\"T_e1051_level0_col1\" class=\"col_heading level0 col1\" >course1</th>\n",
       "      <th id=\"T_e1051_level0_col2\" class=\"col_heading level0 col2\" >course2</th>\n",
       "      <th id=\"T_e1051_level0_col3\" class=\"col_heading level0 col3\" >course3</th>\n",
       "    </tr>\n",
       "  </thead>\n",
       "  <tbody>\n",
       "    <tr>\n",
       "      <th id=\"T_e1051_level0_row0\" class=\"row_heading level0 row0\" >0</th>\n",
       "      <td id=\"T_e1051_row0_col0\" class=\"data row0 col0\" >0</td>\n",
       "      <td id=\"T_e1051_row0_col1\" class=\"data row0 col1\" >FundOfMangement</td>\n",
       "      <td id=\"T_e1051_row0_col2\" class=\"data row0 col2\" >accounting</td>\n",
       "      <td id=\"T_e1051_row0_col3\" class=\"data row0 col3\" >PLC</td>\n",
       "    </tr>\n",
       "    <tr>\n",
       "      <th id=\"T_e1051_level0_row1\" class=\"row_heading level0 row1\" >1</th>\n",
       "      <td id=\"T_e1051_row1_col0\" class=\"data row1 col0\" >1</td>\n",
       "      <td id=\"T_e1051_row1_col1\" class=\"data row1 col1\" >Control1</td>\n",
       "      <td id=\"T_e1051_row1_col2\" class=\"data row1 col2\" >AVS</td>\n",
       "      <td id=\"T_e1051_row1_col3\" class=\"data row1 col3\" >MechanicsAndThermodynamics</td>\n",
       "    </tr>\n",
       "    <tr>\n",
       "      <th id=\"T_e1051_level0_row2\" class=\"row_heading level0 row2\" >2</th>\n",
       "      <td id=\"T_e1051_row2_col0\" class=\"data row2 col0\" >2</td>\n",
       "      <td id=\"T_e1051_row2_col1\" class=\"data row2 col1\" >Ethics</td>\n",
       "      <td id=\"T_e1051_row2_col2\" class=\"data row2 col2\" >-</td>\n",
       "      <td id=\"T_e1051_row2_col3\" class=\"data row2 col3\" >-</td>\n",
       "    </tr>\n",
       "    <tr>\n",
       "      <th id=\"T_e1051_level0_row3\" class=\"row_heading level0 row3\" >3</th>\n",
       "      <td id=\"T_e1051_row3_col0\" class=\"data row3 col0\" >3</td>\n",
       "      <td id=\"T_e1051_row3_col1\" class=\"data row3 col1\" >MachineDesign2</td>\n",
       "      <td id=\"T_e1051_row3_col2\" class=\"data row3 col2\" >Physics</td>\n",
       "      <td id=\"T_e1051_row3_col3\" class=\"data row3 col3\" >-</td>\n",
       "    </tr>\n",
       "    <tr>\n",
       "      <th id=\"T_e1051_level0_row4\" class=\"row_heading level0 row4\" >4</th>\n",
       "      <td id=\"T_e1051_row4_col0\" class=\"data row4 col0\" >4</td>\n",
       "      <td id=\"T_e1051_row4_col1\" class=\"data row4 col1\" >TechnicalWriting</td>\n",
       "      <td id=\"T_e1051_row4_col2\" class=\"data row4 col2\" >-</td>\n",
       "      <td id=\"T_e1051_row4_col3\" class=\"data row4 col3\" >-</td>\n",
       "    </tr>\n",
       "    <tr>\n",
       "      <th id=\"T_e1051_level0_row5\" class=\"row_heading level0 row5\" >5</th>\n",
       "      <td id=\"T_e1051_row5_col0\" class=\"data row5 col0\" >5</td>\n",
       "      <td id=\"T_e1051_row5_col1\" class=\"data row5 col1\" >Vibration</td>\n",
       "      <td id=\"T_e1051_row5_col2\" class=\"data row5 col2\" >-</td>\n",
       "      <td id=\"T_e1051_row5_col3\" class=\"data row5 col3\" >-</td>\n",
       "    </tr>\n",
       "    <tr>\n",
       "      <th id=\"T_e1051_level0_row6\" class=\"row_heading level0 row6\" >6</th>\n",
       "      <td id=\"T_e1051_row6_col0\" class=\"data row6 col0\" >6</td>\n",
       "      <td id=\"T_e1051_row6_col1\" class=\"data row6 col1\" >Thermodynamics</td>\n",
       "      <td id=\"T_e1051_row6_col2\" class=\"data row6 col2\" >-</td>\n",
       "      <td id=\"T_e1051_row6_col3\" class=\"data row6 col3\" >-</td>\n",
       "    </tr>\n",
       "    <tr>\n",
       "      <th id=\"T_e1051_level0_row7\" class=\"row_heading level0 row7\" >7</th>\n",
       "      <td id=\"T_e1051_row7_col0\" class=\"data row7 col0\" >7</td>\n",
       "      <td id=\"T_e1051_row7_col1\" class=\"data row7 col1\" >Fields</td>\n",
       "      <td id=\"T_e1051_row7_col2\" class=\"data row7 col2\" >-</td>\n",
       "      <td id=\"T_e1051_row7_col3\" class=\"data row7 col3\" >-</td>\n",
       "    </tr>\n",
       "    <tr>\n",
       "      <th id=\"T_e1051_level0_row8\" class=\"row_heading level0 row8\" >8</th>\n",
       "      <td id=\"T_e1051_row8_col0\" class=\"data row8 col0\" >8</td>\n",
       "      <td id=\"T_e1051_row8_col1\" class=\"data row8 col1\" >CSAndProgramming</td>\n",
       "      <td id=\"T_e1051_row8_col2\" class=\"data row8 col2\" >InudstrialElectronics</td>\n",
       "      <td id=\"T_e1051_row8_col3\" class=\"data row8 col3\" >FundOfManuf</td>\n",
       "    </tr>\n",
       "    <tr>\n",
       "      <th id=\"T_e1051_level0_row9\" class=\"row_heading level0 row9\" >9</th>\n",
       "      <td id=\"T_e1051_row9_col0\" class=\"data row9 col0\" >9</td>\n",
       "      <td id=\"T_e1051_row9_col1\" class=\"data row9 col1\" >DigitalControl</td>\n",
       "      <td id=\"T_e1051_row9_col2\" class=\"data row9 col2\" >-</td>\n",
       "      <td id=\"T_e1051_row9_col3\" class=\"data row9 col3\" >-</td>\n",
       "    </tr>\n",
       "    <tr>\n",
       "      <th id=\"T_e1051_level0_row10\" class=\"row_heading level0 row10\" >10</th>\n",
       "      <td id=\"T_e1051_row10_col0\" class=\"data row10 col0\" >10</td>\n",
       "      <td id=\"T_e1051_row10_col1\" class=\"data row10 col1\" >Electronics1</td>\n",
       "      <td id=\"T_e1051_row10_col2\" class=\"data row10 col2\" >SensorsAndActuators</td>\n",
       "      <td id=\"T_e1051_row10_col3\" class=\"data row10 col3\" >calc1</td>\n",
       "    </tr>\n",
       "    <tr>\n",
       "      <th id=\"T_e1051_level0_row11\" class=\"row_heading level0 row11\" >11</th>\n",
       "      <td id=\"T_e1051_row11_col0\" class=\"data row11 col0\" >11</td>\n",
       "      <td id=\"T_e1051_row11_col1\" class=\"data row11 col1\" >Mechanics1</td>\n",
       "      <td id=\"T_e1051_row11_col2\" class=\"data row11 col2\" >ManufSystemAutomation</td>\n",
       "      <td id=\"T_e1051_row11_col3\" class=\"data row11 col3\" >Calc3</td>\n",
       "    </tr>\n",
       "    <tr>\n",
       "      <th id=\"T_e1051_level0_row12\" class=\"row_heading level0 row12\" >12</th>\n",
       "      <td id=\"T_e1051_row12_col0\" class=\"data row12 col0\" >12</td>\n",
       "      <td id=\"T_e1051_row12_col1\" class=\"data row12 col1\" >Robotics</td>\n",
       "      <td id=\"T_e1051_row12_col2\" class=\"data row12 col2\" >Signal</td>\n",
       "      <td id=\"T_e1051_row12_col3\" class=\"data row12 col3\" >Mechatronics1</td>\n",
       "    </tr>\n",
       "    <tr>\n",
       "      <th id=\"T_e1051_level0_row13\" class=\"row_heading level0 row13\" >13</th>\n",
       "      <td id=\"T_e1051_row13_col0\" class=\"data row13 col0\" >13</td>\n",
       "      <td id=\"T_e1051_row13_col1\" class=\"data row13 col1\" >LinearAlgebra</td>\n",
       "      <td id=\"T_e1051_row13_col2\" class=\"data row13 col2\" >Logic</td>\n",
       "      <td id=\"T_e1051_row13_col3\" class=\"data row13 col3\" >Microcontroller</td>\n",
       "    </tr>\n",
       "    <tr>\n",
       "      <th id=\"T_e1051_level0_row14\" class=\"row_heading level0 row14\" >14</th>\n",
       "      <td id=\"T_e1051_row14_col0\" class=\"data row14 col0\" >14</td>\n",
       "      <td id=\"T_e1051_row14_col1\" class=\"data row14 col1\" >NumericalControl</td>\n",
       "      <td id=\"T_e1051_row14_col2\" class=\"data row14 col2\" >EngineeringDrawing</td>\n",
       "      <td id=\"T_e1051_row14_col3\" class=\"data row14 col3\" >-</td>\n",
       "    </tr>\n",
       "    <tr>\n",
       "      <th id=\"T_e1051_level0_row15\" class=\"row_heading level0 row15\" >15</th>\n",
       "      <td id=\"T_e1051_row15_col0\" class=\"data row15 col0\" >15</td>\n",
       "      <td id=\"T_e1051_row15_col1\" class=\"data row15 col1\" >Fluid</td>\n",
       "      <td id=\"T_e1051_row15_col2\" class=\"data row15 col2\" >-</td>\n",
       "      <td id=\"T_e1051_row15_col3\" class=\"data row15 col3\" >-</td>\n",
       "    </tr>\n",
       "  </tbody>\n",
       "</table>\n"
      ],
      "text/plain": [
       "<pandas.io.formats.style.Styler at 0x7f751e39a520>"
      ]
     },
     "execution_count": 76,
     "metadata": {},
     "output_type": "execute_result"
    }
   ],
   "source": [
    "import numpy as np\n",
    "def setBackgroundColor(data):\n",
    "    s = data.index % 2 != 0\n",
    "    s = pd.concat([pd.Series(s)] * data.shape[1], axis=1) #6 or the n of cols u have\n",
    "    z = pd.DataFrame(np.where(s, 'background-color:#104A60;color:white;', 'background-color:#ffffff;color:black;'),\n",
    "                 index=data.index, columns=data.columns)\n",
    "    z2 = pd.DataFrame(np.where(s, 'color:#000000', 'color:#ffffff'),\n",
    "                 index=data.index, columns=data.columns)\n",
    "    return z\n",
    "df.style.apply(setBackgroundColor,axis=None)\n",
    "#dfi.export(dfstyled, 'dataframe.png')"
   ]
  },
  {
   "cell_type": "code",
   "execution_count": 70,
   "id": "310ef87f",
   "metadata": {},
   "outputs": [
    {
     "data": {
      "text/html": [
       "<div>\n",
       "<style scoped>\n",
       "    .dataframe tbody tr th:only-of-type {\n",
       "        vertical-align: middle;\n",
       "    }\n",
       "\n",
       "    .dataframe tbody tr th {\n",
       "        vertical-align: top;\n",
       "    }\n",
       "\n",
       "    .dataframe thead th {\n",
       "        text-align: right;\n",
       "    }\n",
       "</style>\n",
       "<table border=\"1\" class=\"dataframe\">\n",
       "  <thead>\n",
       "    <tr style=\"text-align: right;\">\n",
       "      <th></th>\n",
       "      <th>Unnamed: 0</th>\n",
       "      <th>course1</th>\n",
       "      <th>course2</th>\n",
       "      <th>course3</th>\n",
       "    </tr>\n",
       "  </thead>\n",
       "  <tbody>\n",
       "    <tr>\n",
       "      <th>0</th>\n",
       "      <td>background-color:#ffffff;color:ffffff</td>\n",
       "      <td>background-color:#ffffff;color:ffffff</td>\n",
       "      <td>background-color:#ffffff;color:ffffff</td>\n",
       "      <td>background-color:#ffffff;color:ffffff</td>\n",
       "    </tr>\n",
       "    <tr>\n",
       "      <th>1</th>\n",
       "      <td>background-color:#104A60;color:000000</td>\n",
       "      <td>background-color:#104A60;color:000000</td>\n",
       "      <td>background-color:#104A60;color:000000</td>\n",
       "      <td>background-color:#104A60;color:000000</td>\n",
       "    </tr>\n",
       "    <tr>\n",
       "      <th>2</th>\n",
       "      <td>background-color:#ffffff;color:ffffff</td>\n",
       "      <td>background-color:#ffffff;color:ffffff</td>\n",
       "      <td>background-color:#ffffff;color:ffffff</td>\n",
       "      <td>background-color:#ffffff;color:ffffff</td>\n",
       "    </tr>\n",
       "    <tr>\n",
       "      <th>3</th>\n",
       "      <td>background-color:#104A60;color:000000</td>\n",
       "      <td>background-color:#104A60;color:000000</td>\n",
       "      <td>background-color:#104A60;color:000000</td>\n",
       "      <td>background-color:#104A60;color:000000</td>\n",
       "    </tr>\n",
       "    <tr>\n",
       "      <th>4</th>\n",
       "      <td>background-color:#ffffff;color:ffffff</td>\n",
       "      <td>background-color:#ffffff;color:ffffff</td>\n",
       "      <td>background-color:#ffffff;color:ffffff</td>\n",
       "      <td>background-color:#ffffff;color:ffffff</td>\n",
       "    </tr>\n",
       "    <tr>\n",
       "      <th>5</th>\n",
       "      <td>background-color:#104A60;color:000000</td>\n",
       "      <td>background-color:#104A60;color:000000</td>\n",
       "      <td>background-color:#104A60;color:000000</td>\n",
       "      <td>background-color:#104A60;color:000000</td>\n",
       "    </tr>\n",
       "    <tr>\n",
       "      <th>6</th>\n",
       "      <td>background-color:#ffffff;color:ffffff</td>\n",
       "      <td>background-color:#ffffff;color:ffffff</td>\n",
       "      <td>background-color:#ffffff;color:ffffff</td>\n",
       "      <td>background-color:#ffffff;color:ffffff</td>\n",
       "    </tr>\n",
       "    <tr>\n",
       "      <th>7</th>\n",
       "      <td>background-color:#104A60;color:000000</td>\n",
       "      <td>background-color:#104A60;color:000000</td>\n",
       "      <td>background-color:#104A60;color:000000</td>\n",
       "      <td>background-color:#104A60;color:000000</td>\n",
       "    </tr>\n",
       "    <tr>\n",
       "      <th>8</th>\n",
       "      <td>background-color:#ffffff;color:ffffff</td>\n",
       "      <td>background-color:#ffffff;color:ffffff</td>\n",
       "      <td>background-color:#ffffff;color:ffffff</td>\n",
       "      <td>background-color:#ffffff;color:ffffff</td>\n",
       "    </tr>\n",
       "    <tr>\n",
       "      <th>9</th>\n",
       "      <td>background-color:#104A60;color:000000</td>\n",
       "      <td>background-color:#104A60;color:000000</td>\n",
       "      <td>background-color:#104A60;color:000000</td>\n",
       "      <td>background-color:#104A60;color:000000</td>\n",
       "    </tr>\n",
       "    <tr>\n",
       "      <th>10</th>\n",
       "      <td>background-color:#ffffff;color:ffffff</td>\n",
       "      <td>background-color:#ffffff;color:ffffff</td>\n",
       "      <td>background-color:#ffffff;color:ffffff</td>\n",
       "      <td>background-color:#ffffff;color:ffffff</td>\n",
       "    </tr>\n",
       "    <tr>\n",
       "      <th>11</th>\n",
       "      <td>background-color:#104A60;color:000000</td>\n",
       "      <td>background-color:#104A60;color:000000</td>\n",
       "      <td>background-color:#104A60;color:000000</td>\n",
       "      <td>background-color:#104A60;color:000000</td>\n",
       "    </tr>\n",
       "    <tr>\n",
       "      <th>12</th>\n",
       "      <td>background-color:#ffffff;color:ffffff</td>\n",
       "      <td>background-color:#ffffff;color:ffffff</td>\n",
       "      <td>background-color:#ffffff;color:ffffff</td>\n",
       "      <td>background-color:#ffffff;color:ffffff</td>\n",
       "    </tr>\n",
       "    <tr>\n",
       "      <th>13</th>\n",
       "      <td>background-color:#104A60;color:000000</td>\n",
       "      <td>background-color:#104A60;color:000000</td>\n",
       "      <td>background-color:#104A60;color:000000</td>\n",
       "      <td>background-color:#104A60;color:000000</td>\n",
       "    </tr>\n",
       "    <tr>\n",
       "      <th>14</th>\n",
       "      <td>background-color:#ffffff;color:ffffff</td>\n",
       "      <td>background-color:#ffffff;color:ffffff</td>\n",
       "      <td>background-color:#ffffff;color:ffffff</td>\n",
       "      <td>background-color:#ffffff;color:ffffff</td>\n",
       "    </tr>\n",
       "    <tr>\n",
       "      <th>15</th>\n",
       "      <td>background-color:#104A60;color:000000</td>\n",
       "      <td>background-color:#104A60;color:000000</td>\n",
       "      <td>background-color:#104A60;color:000000</td>\n",
       "      <td>background-color:#104A60;color:000000</td>\n",
       "    </tr>\n",
       "  </tbody>\n",
       "</table>\n",
       "</div>"
      ],
      "text/plain": [
       "                               Unnamed: 0  \\\n",
       "0   background-color:#ffffff;color:ffffff   \n",
       "1   background-color:#104A60;color:000000   \n",
       "2   background-color:#ffffff;color:ffffff   \n",
       "3   background-color:#104A60;color:000000   \n",
       "4   background-color:#ffffff;color:ffffff   \n",
       "5   background-color:#104A60;color:000000   \n",
       "6   background-color:#ffffff;color:ffffff   \n",
       "7   background-color:#104A60;color:000000   \n",
       "8   background-color:#ffffff;color:ffffff   \n",
       "9   background-color:#104A60;color:000000   \n",
       "10  background-color:#ffffff;color:ffffff   \n",
       "11  background-color:#104A60;color:000000   \n",
       "12  background-color:#ffffff;color:ffffff   \n",
       "13  background-color:#104A60;color:000000   \n",
       "14  background-color:#ffffff;color:ffffff   \n",
       "15  background-color:#104A60;color:000000   \n",
       "\n",
       "                                  course1  \\\n",
       "0   background-color:#ffffff;color:ffffff   \n",
       "1   background-color:#104A60;color:000000   \n",
       "2   background-color:#ffffff;color:ffffff   \n",
       "3   background-color:#104A60;color:000000   \n",
       "4   background-color:#ffffff;color:ffffff   \n",
       "5   background-color:#104A60;color:000000   \n",
       "6   background-color:#ffffff;color:ffffff   \n",
       "7   background-color:#104A60;color:000000   \n",
       "8   background-color:#ffffff;color:ffffff   \n",
       "9   background-color:#104A60;color:000000   \n",
       "10  background-color:#ffffff;color:ffffff   \n",
       "11  background-color:#104A60;color:000000   \n",
       "12  background-color:#ffffff;color:ffffff   \n",
       "13  background-color:#104A60;color:000000   \n",
       "14  background-color:#ffffff;color:ffffff   \n",
       "15  background-color:#104A60;color:000000   \n",
       "\n",
       "                                  course2  \\\n",
       "0   background-color:#ffffff;color:ffffff   \n",
       "1   background-color:#104A60;color:000000   \n",
       "2   background-color:#ffffff;color:ffffff   \n",
       "3   background-color:#104A60;color:000000   \n",
       "4   background-color:#ffffff;color:ffffff   \n",
       "5   background-color:#104A60;color:000000   \n",
       "6   background-color:#ffffff;color:ffffff   \n",
       "7   background-color:#104A60;color:000000   \n",
       "8   background-color:#ffffff;color:ffffff   \n",
       "9   background-color:#104A60;color:000000   \n",
       "10  background-color:#ffffff;color:ffffff   \n",
       "11  background-color:#104A60;color:000000   \n",
       "12  background-color:#ffffff;color:ffffff   \n",
       "13  background-color:#104A60;color:000000   \n",
       "14  background-color:#ffffff;color:ffffff   \n",
       "15  background-color:#104A60;color:000000   \n",
       "\n",
       "                                  course3  \n",
       "0   background-color:#ffffff;color:ffffff  \n",
       "1   background-color:#104A60;color:000000  \n",
       "2   background-color:#ffffff;color:ffffff  \n",
       "3   background-color:#104A60;color:000000  \n",
       "4   background-color:#ffffff;color:ffffff  \n",
       "5   background-color:#104A60;color:000000  \n",
       "6   background-color:#ffffff;color:ffffff  \n",
       "7   background-color:#104A60;color:000000  \n",
       "8   background-color:#ffffff;color:ffffff  \n",
       "9   background-color:#104A60;color:000000  \n",
       "10  background-color:#ffffff;color:ffffff  \n",
       "11  background-color:#104A60;color:000000  \n",
       "12  background-color:#ffffff;color:ffffff  \n",
       "13  background-color:#104A60;color:000000  \n",
       "14  background-color:#ffffff;color:ffffff  \n",
       "15  background-color:#104A60;color:000000  "
      ]
     },
     "execution_count": 70,
     "metadata": {},
     "output_type": "execute_result"
    }
   ],
   "source": [
    "setBackgroundColor(df)"
   ]
  },
  {
   "cell_type": "code",
   "execution_count": null,
   "id": "1afbd340",
   "metadata": {},
   "outputs": [],
   "source": []
  },
  {
   "cell_type": "code",
   "execution_count": null,
   "id": "360b44ae",
   "metadata": {},
   "outputs": [],
   "source": []
  }
 ],
 "metadata": {
  "kernelspec": {
   "display_name": "Python 3 (ipykernel)",
   "language": "python",
   "name": "python3"
  },
  "language_info": {
   "codemirror_mode": {
    "name": "ipython",
    "version": 3
   },
   "file_extension": ".py",
   "mimetype": "text/x-python",
   "name": "python",
   "nbconvert_exporter": "python",
   "pygments_lexer": "ipython3",
   "version": "3.9.7"
  }
 },
 "nbformat": 4,
 "nbformat_minor": 5
}
